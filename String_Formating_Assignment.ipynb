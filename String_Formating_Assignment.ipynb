{
 "cells": [
  {
   "cell_type": "markdown",
   "id": "6f97506d-43ca-4dd0-bf64-b354beda01be",
   "metadata": {},
   "source": [
    "# Create a offer letter for a candidate & take input from user for each variable.\n",
    "\n",
    "A/52 Sector  16 Noida UP \n",
    "\n",
    "Dear Rohit Kumar,\n",
    "\n",
    "Subject: Offer of Employment for the position of Python Developer\n",
    "\n",
    "We are delighted to extend this formal offer of employment to you for the position of Python Developer at our organization. Based on your qualifications and the skills you demonstrated during the recruitment process, we are confident that you will be a valuable addition to our team.\n",
    "\n",
    "As discussed, your expected date of joining is 01-01-20213. Your total compensation package will be 2545558562, which includes all salary components as per the company’s policy. Further details regarding your compensation will be provided in your employment contract.\n",
    "\n",
    "We expect you to bring your best efforts to help the company achieve its goals, and we are committed to supporting your professional growth during your time with us.\n",
    "\n",
    "Please confirm your acceptance of this offer by sending an email to RKT6543@gmail.com at your earliest convenience. Should you have any queries regarding this offer, feel free to reach out to us.\n",
    "\n",
    "We look forward to having you onboard and are excited about the great things we can accomplish together.\n",
    "\n",
    "Sincerely,\n",
    "\n",
    "Sunil Kumar\n",
    "\n",
    "HR Manager"
   ]
  },
  {
   "cell_type": "code",
   "execution_count": 3,
   "id": "84a6fc8b-6222-4dab-b6dd-eddc0bfac4a1",
   "metadata": {},
   "outputs": [
    {
     "name": "stdin",
     "output_type": "stream",
     "text": [
      "Enter candidate's name:  Ritika Priyadarshini\n",
      "Enter position offered:  Python Devloper\n",
      "Enter expected date of joining (DD-MM-YYYY):  02082025\n",
      "Enter total compensation package:  5000000\n",
      "Enter HR email address:  rkt204@gmail.com\n",
      "Enter HR manager's name:  Rohit Kumar Tyagi\n"
     ]
    },
    {
     "name": "stdout",
     "output_type": "stream",
     "text": [
      "\n",
      "============================================================\n",
      "GENERATED OFFER LETTER:\n",
      "============================================================\n",
      "\n",
      "A/52 Sector 16 Noida UP\n",
      "\n",
      "Dear Ritika Priyadarshini,\n",
      "\n",
      "Subject: Offer of Employment for the position of Python Devloper\n",
      "\n",
      "We are delighted to extend this formal offer of employment to you for the position of Python Devloper at our organization. Based on your qualifications and the skills you demonstrated during the recruitment process, we are confident that you will be a valuable addition to our team.\n",
      "\n",
      "As discussed, your expected date of joining is 02082025. Your total compensation package will be 5000000, which includes all salary components as per the company’s policy. Further details regarding your compensation will be provided in your employment contract.\n",
      "\n",
      "We expect you to bring your best efforts to help the company achieve its goals, and we are committed to supporting your professional growth during your time with us.\n",
      "\n",
      "Please confirm your acceptance of this offer by sending an email to rkt204@gmail.com at your earliest convenience. Should you have any queries regarding this offer, feel free to reach out to us.\n",
      "\n",
      "We look forward to having you onboard and are excited about the great things we can accomplish together.\n",
      "\n",
      "Sincerely,\n",
      "\n",
      "Rohit Kumar Tyagi  \n",
      "HR Manager\n",
      "\n"
     ]
    }
   ],
   "source": [
    "# Taking input from user\n",
    "candidate_name = input(\"Enter candidate's name: \")\n",
    "position = input(\"Enter position offered: \")\n",
    "joining_date = input(\"Enter expected date of joining (DD-MM-YYYY): \")\n",
    "salary = input(\"Enter total compensation package: \")\n",
    "email = input(\"Enter HR email address: \")\n",
    "hr_name = input(\"Enter HR manager's name: \")\n",
    "\n",
    "# Static address\n",
    "address = \"A/52 Sector 16 Noida UP\"\n",
    "\n",
    "# Generating offer letter\n",
    "offer_letter = f\"\"\"\n",
    "{address}\n",
    "\n",
    "Dear {candidate_name},\n",
    "\n",
    "Subject: Offer of Employment for the position of {position}\n",
    "\n",
    "We are delighted to extend this formal offer of employment to you for the position of {position} at our organization. Based on your qualifications and the skills you demonstrated during the recruitment process, we are confident that you will be a valuable addition to our team.\n",
    "\n",
    "As discussed, your expected date of joining is {joining_date}. Your total compensation package will be {salary}, which includes all salary components as per the company’s policy. Further details regarding your compensation will be provided in your employment contract.\n",
    "\n",
    "We expect you to bring your best efforts to help the company achieve its goals, and we are committed to supporting your professional growth during your time with us.\n",
    "\n",
    "Please confirm your acceptance of this offer by sending an email to {email} at your earliest convenience. Should you have any queries regarding this offer, feel free to reach out to us.\n",
    "\n",
    "We look forward to having you onboard and are excited about the great things we can accomplish together.\n",
    "\n",
    "Sincerely,\n",
    "\n",
    "{hr_name}  \n",
    "HR Manager\n",
    "\"\"\"\n",
    "\n",
    "# Print the offer letter\n",
    "print(\"\\n\" + \"=\"*60)\n",
    "print(\"GENERATED OFFER LETTER:\")\n",
    "print(\"=\"*60)\n",
    "print(offer_letter)"
   ]
  },
  {
   "cell_type": "code",
   "execution_count": null,
   "id": "d9978374-3eeb-4219-9e5e-0a3386bfc44e",
   "metadata": {},
   "outputs": [],
   "source": []
  }
 ],
 "metadata": {
  "kernelspec": {
   "display_name": "Python [conda env:base] *",
   "language": "python",
   "name": "conda-base-py"
  },
  "language_info": {
   "codemirror_mode": {
    "name": "ipython",
    "version": 3
   },
   "file_extension": ".py",
   "mimetype": "text/x-python",
   "name": "python",
   "nbconvert_exporter": "python",
   "pygments_lexer": "ipython3",
   "version": "3.12.7"
  }
 },
 "nbformat": 4,
 "nbformat_minor": 5
}
