{
 "cells": [
  {
   "cell_type": "markdown",
   "id": "6e65a5c1-af1e-48fa-bc97-aabfc9fb2a0b",
   "metadata": {},
   "source": [
    "# 1. In the below elements which of them are values or an expression? eg:- values can be integer or string and expressions will be mathematical operators.\n",
    "        *\n",
    "        'hello'\n",
    "        -87.8\n",
    "        -\n",
    "        /\n",
    "        +\n",
    "        6"
   ]
  },
  {
   "cell_type": "markdown",
   "id": "6611a61e-9765-4cdb-acdb-1168df30ee75",
   "metadata": {},
   "source": [
    "Values → 'hello', -87.8, 6\n",
    "\n",
    "Expressions → *, -, /, +\n",
    "| Element   | Type       | Explanation                           |\n",
    "| --------- | ---------- | ------------------------------------- |\n",
    "| `*`       | Expression | Multiplication operator               |\n",
    "| `'hello'` | Value      | String value                          |\n",
    "| `-87.8`   | Value      | Floating-point number                 |\n",
    "| `-`       | Expression | Subtraction (or unary minus) operator |\n",
    "| `/`       | Expression | Division operator                     |\n",
    "| `+`       | Expression | Addition operator                     |\n",
    "| `6`       | Value      | Integer value                         |"
   ]
  },
  {
   "cell_type": "markdown",
   "id": "36fcbd8c-1b92-4c29-b412-767d5bebeb0a",
   "metadata": {},
   "source": [
    "# 2. What is the difference between string and variable?"
   ]
  },
  {
   "cell_type": "markdown",
   "id": "daec0ec5-171e-4fde-8da3-ab731c1f7de7",
   "metadata": {},
   "source": [
    "A string is a type of data that represents text, whereas a variable is a name that stores data (which can be a string or any other type).\n",
    "| Feature        | **String**                                  | **Variable**                                        |\n",
    "| -------------- | ------------------------------------------- | --------------------------------------------------- |\n",
    "| **Definition** | A sequence of characters enclosed in quotes | A named reference to store data in memory           |\n",
    "| **Example**    | `\"Hello\"`, `'Python'`                       | `name`, `age`, `message`                            |\n",
    "| **Data Type**  | Always of type `str`                        | Can hold any data type: `int`, `str`, `float`, etc. |\n",
    "| **Usage**      | Used to represent text                      | Used to assign and access values                    |\n",
    "| **Quotes?**    | Enclosed in quotes                          | Never enclosed in quotes                            |"
   ]
  },
  {
   "cell_type": "markdown",
   "id": "0e82a102-5a49-47cf-90dc-49c254fe7469",
   "metadata": {},
   "source": [
    "# 3. Describe three different data types."
   ]
  },
  {
   "cell_type": "markdown",
   "id": "7108624d-a084-4c53-9ee3-9e479974d37f",
   "metadata": {},
   "source": [
    "    1. Integer (int)\n",
    "         Represents whole numbers (positive, negative, or zero) without any decimal point.\n",
    "            🔹 Example: age = 25\n",
    "    \n",
    "    2. Float (float)\n",
    "         Represents real numbers with decimal points.\n",
    "            🔹 Example: price = 99.99\n",
    "    \n",
    "    3. String (str)\n",
    "         Represents a sequence of characters (text), enclosed in single (') or double (\") quotes.\n",
    "            🔹 Example: name = \"Alice\""
   ]
  },
  {
   "cell_type": "markdown",
   "id": "21a92ab9-28ff-430c-a34f-6d4c21930c1c",
   "metadata": {},
   "source": [
    "# 4. What is an expression made up of? What do all expressions do?"
   ]
  },
  {
   "cell_type": "markdown",
   "id": "511dffdb-fd60-464e-adb8-b04316a442c3",
   "metadata": {},
   "source": [
    "An expression is made up of values, variables, operators, and function calls that are combined to produce another value.\n",
    "    \n",
    "    🔹 Components of an Expression:\n",
    "        Values → constants like numbers or strings\n",
    "        Example: 10, 'Hello'\n",
    "        Variables → names that store values\n",
    "        Example: x, total\n",
    "        Operators → used to perform operations\n",
    "        Example: +, -, *, /\n",
    "        Function Calls → like len(), max()\n",
    "        Example: len(\"Python\")\n",
    "\n",
    "All expressions evaluate to a single value.\n",
    "    \n",
    "    For example:\n",
    "        5 + 3  → evaluates to 8  \n",
    "        len(\"abc\")  → evaluates to 3"
   ]
  },
  {
   "cell_type": "markdown",
   "id": "d913114f-1aa4-433a-923c-2609cd582a16",
   "metadata": {},
   "source": [
    "# 5. This assignment statements, like spam = 10. What is the difference between an expression and a statement?"
   ]
  },
  {
   "cell_type": "markdown",
   "id": "c3f1184e-4ba0-487f-b65a-2e42f12db042",
   "metadata": {},
   "source": [
    "An expression evaluates to a value, while a statement performs an action (like creating a variable, looping, or defining a function).\n",
    "        \n",
    "        Ex:- spam = 10\n",
    "            10 is an expression (evaluates to a value).\n",
    "            spam = 10 is a statement (assigns that value to a variable)."
   ]
  },
  {
   "cell_type": "markdown",
   "id": "414ec644-4671-491d-8e32-ecbbb512193a",
   "metadata": {},
   "source": [
    "# 6. After running the following code, what does the variable bacon contain?\n",
    "        bacon = 22\n",
    "        bacon + 1"
   ]
  },
  {
   "cell_type": "markdown",
   "id": "91c8568a-42d5-4d73-bb6c-92e11d6b7726",
   "metadata": {},
   "source": [
    "The variable bacon still contains 22.\n",
    "\n",
    "    Explanation:-\n",
    "        bacon = 22 assigns the value 22 to the variable bacon.\n",
    "        bacon + 1 evaluates to 23, but it does not change the value of bacon because the result is not assigned back to the variable."
   ]
  },
  {
   "cell_type": "markdown",
   "id": "21796ca9-bcce-45ca-824d-7b348a08d621",
   "metadata": {},
   "source": [
    "# 7. What should the values of the following two terms be?\n",
    "        'spam' + 'spamspam'\n",
    "        'spam' * 3"
   ]
  },
  {
   "cell_type": "markdown",
   "id": "1d146155-4f8c-46f5-a674-b63508cefa97",
   "metadata": {},
   "source": [
    "    1. 'spam' + 'spamspam'\n",
    "        This is string concatenation.\n",
    "         'spam' + 'spamspam'  →  'spamspamspam'\n",
    "        It joins the two strings together.\n",
    "    \n",
    "    2. 'spam' * 3\n",
    "        This is string repetition.\n",
    "         'spam' * 3  →  'spamspamspam'\n",
    "        It repeats 'spam' three times.\n",
    "\n",
    "Both expressions evaluate to the same value: 'spamspamspam'"
   ]
  },
  {
   "cell_type": "markdown",
   "id": "ac61d209-55d2-455c-afd7-f2e14890e54c",
   "metadata": {},
   "source": [
    "# 8. Why is eggs a valid variable name while 100 is invalid?"
   ]
  },
  {
   "cell_type": "markdown",
   "id": "6ced6568-b33d-43c2-9d27-a684d13fbaad",
   "metadata": {},
   "source": [
    "eggs is a valid variable name because it starts with a letter, while 100 is invalid because variable names cannot start with a digit."
   ]
  },
  {
   "cell_type": "markdown",
   "id": "3ed20ca6-7d7b-4575-aa87-70eceb80706d",
   "metadata": {},
   "source": [
    "# 9. What three functions can be used to get the integer, floating-point number, or string version of a value?"
   ]
  },
  {
   "cell_type": "markdown",
   "id": "ef9f639e-f350-4ce5-b3de-9f2ae12e4d9b",
   "metadata": {},
   "source": [
    "Use int(), float(), and str() to convert between number and string types in Python."
   ]
  },
  {
   "cell_type": "markdown",
   "id": "13f5f953-047f-44ed-8aef-141d47836363",
   "metadata": {},
   "source": [
    "# 10. Why does this expression cause an error? How can you fix it?\n",
    "    'I have eaten' + 99 + 'burritos.'"
   ]
  },
  {
   "cell_type": "markdown",
   "id": "4f6446c7-1a46-4f56-842d-3b1f5d25f892",
   "metadata": {},
   "source": [
    "This expression causes a TypeError because you’re trying to add a string ('I have eaten') and an integer (99), which is not allowed in Python.\n",
    "\n",
    "We need to convert the integer to a string using str() before concatenating: 'I have eaten ' + str(99) + ' burritos.'\n",
    "\n",
    "Output:- 'I have eaten 99 burritos.'"
   ]
  }
 ],
 "metadata": {
  "kernelspec": {
   "display_name": "Python [conda env:base] *",
   "language": "python",
   "name": "conda-base-py"
  },
  "language_info": {
   "codemirror_mode": {
    "name": "ipython",
    "version": 3
   },
   "file_extension": ".py",
   "mimetype": "text/x-python",
   "name": "python",
   "nbconvert_exporter": "python",
   "pygments_lexer": "ipython3",
   "version": "3.12.7"
  }
 },
 "nbformat": 4,
 "nbformat_minor": 5
}
