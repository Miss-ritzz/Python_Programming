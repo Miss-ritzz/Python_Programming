{
 "cells": [
  {
   "cell_type": "markdown",
   "id": "b33b3de2-a6f3-4e94-a5b6-aeba84563144",
   "metadata": {},
   "source": [
    "Q1. What is python?"
   ]
  },
  {
   "cell_type": "markdown",
   "id": "e91e9b72-f455-4292-a51a-45fd70868f1e",
   "metadata": {},
   "source": [
    "Ans. Python is a high-level, interpreted, general-purpose programming language known for its simplicity, readability, and versatility.It supports multiple programming paradigms, including object-oriented, procedural, and functional programming."
   ]
  },
  {
   "cell_type": "raw",
   "id": "0f21e07b-3372-4cd6-a315-0012d7d8d413",
   "metadata": {},
   "source": [
    "Q2. Tell me the areas where python is being used?"
   ]
  },
  {
   "cell_type": "markdown",
   "id": "9ae65d0c-1db2-4e64-a627-f6e3e1e323b4",
   "metadata": {},
   "source": [
    "Ans. •\tWeb Development\n",
    "•\tMachine Learning and Artificial Intelligence\n",
    "•\tData Science\n",
    "•\tGame Development\n",
    "•\tAudio and Visual Applications\n",
    "•\tSoftware Development\n",
    "•\tCAD Applications\n",
    "•\tBusiness Applications\n",
    "•\tDesktop GUI\n",
    "•\tWeb Scraping Application "
   ]
  },
  {
   "cell_type": "markdown",
   "id": "3bc7e261-e1f1-4c3a-8018-4e0a94a75d9b",
   "metadata": {},
   "source": [
    "Q3. What is high level and low-level language?"
   ]
  },
  {
   "cell_type": "raw",
   "id": "a3682395-70dc-486e-9980-b0125500c243",
   "metadata": {},
   "source": [
    "Ans. A high-level language is closer to human language and is designed to be easy for humans to read, write, and understand whereas A low-level language is closer to machine language and directly interacts with the hardware.\n",
    "Feature\t              High-Level Language\t              Low-Level Language\n",
    "Readability              \t Easy\t                           Hard\n",
    "Speed\t                    Slower\t                          Faster\n",
    "Portability\t                 High\t                           Low\n",
    "Abstraction Level\t         High\t                           Low\n",
    "Examples\t             Python, Java\t                 Assembly, Machine Code  "
   ]
  },
  {
   "cell_type": "raw",
   "id": "27468500-cf0e-440c-adeb-4b49a9154966",
   "metadata": {},
   "source": [
    "Q4. What is interpreted language?"
   ]
  },
  {
   "cell_type": "raw",
   "id": "75e35152-a9c2-4267-a037-d67a82d5004a",
   "metadata": {},
   "source": [
    "Ans. An interpreted language is a type of programming language in which the code is executed line by line by an interpreter at runtime, rather than being compiled into machine code before execution.\n",
    "Examples: Python, JavaScript, PHP, etc,."
   ]
  },
  {
   "cell_type": "raw",
   "id": "3280570c-f10c-4600-9479-0d5f7f65a705",
   "metadata": {},
   "source": [
    "Q5. What is compiled language?"
   ]
  },
  {
   "cell_type": "raw",
   "id": "3ab3ee67-d9c6-4cea-878a-ea7d0afd9580",
   "metadata": {},
   "source": [
    "Ans. A compiled language is a programming language whose code is translated into machine code (binary) by a compiler before it can be executed by the computer.\n",
    "Examples: C, C++, JAVA, etc,."
   ]
  },
  {
   "cell_type": "raw",
   "id": "18695f72-6421-43d1-8d36-7b1902587e40",
   "metadata": {},
   "source": [
    "Q6. What is statically typed language?"
   ]
  },
  {
   "cell_type": "raw",
   "id": "750f6509-6e26-4dfd-a2aa-c189c6e65672",
   "metadata": {},
   "source": [
    "Ans. A statically typed language is a programming language in which variable types are declared explicitly and checked at compile time.\n",
    "Examples: C, C++, JAVA, etc,."
   ]
  },
  {
   "cell_type": "raw",
   "id": "3bcec01d-69ab-490f-88d7-6dae89bba506",
   "metadata": {},
   "source": [
    "Q7. What is dynamically typed language?"
   ]
  },
  {
   "cell_type": "raw",
   "id": "560a2258-0b7f-4d45-9076-12e608511040",
   "metadata": {},
   "source": [
    "Ans. A dynamically typed language is a programming language where variable types are determined at runtime, meaning you don’t need to declare a variable’s type explicitly.\n",
    "Examples: Python, JavaScript, PHP, etc,."
   ]
  },
  {
   "cell_type": "raw",
   "id": "5357c110-6a3b-4a8f-bcf5-5c1504e03f48",
   "metadata": {},
   "source": [
    "Q8. What is weekly typed language?"
   ]
  },
  {
   "cell_type": "raw",
   "id": "d681b1c5-a8f9-4eb3-855f-cc3b3e118f35",
   "metadata": {},
   "source": [
    "Ans. A weakly typed language is a programming language that allows implicit type conversions between different data types, sometimes leading to unexpected or incorrect behavior.\n",
    "Ex- JavaScript, PHP, C (in some contexts),etc,."
   ]
  },
  {
   "cell_type": "raw",
   "id": "3bad5aba-d18b-4a2d-b757-b13360ec0105",
   "metadata": {},
   "source": [
    "Q9. What is strongly typed language?"
   ]
  },
  {
   "cell_type": "raw",
   "id": "17df8fe0-2df2-472c-96ea-0d509bddbb71",
   "metadata": {},
   "source": [
    "Ans. A strongly typed language is one that strictly enforces type rules — we cannot perform operations between mismatched data types without explicitly converting them.\n",
    "Ex- Python, C#, Java, etc,."
   ]
  },
  {
   "cell_type": "raw",
   "id": "d6c4d602-8090-44dc-945d-761bccfb5f0e",
   "metadata": {},
   "source": [
    "Q10. What is .PYC file (Byte code)?"
   ]
  },
  {
   "cell_type": "raw",
   "id": "a2bcbe7e-f3e2-4131-afde-40c4344cd596",
   "metadata": {},
   "source": [
    "Ans. A .pyc file is a compiled Python file that contains the bytecode version of your Python source code. It is automatically created by the Python interpreter to improve performance.\n",
    "Ex: When we run or import a Python file (.py), Python compiles it to bytecode. The bytecode is saved as a .pyc file inside a folder called __pycache__."
   ]
  },
  {
   "cell_type": "raw",
   "id": "b9fa45e1-6ea9-4d05-b9d4-1452c39eef9f",
   "metadata": {},
   "source": [
    "Q11. What is PVM?"
   ]
  },
  {
   "cell_type": "raw",
   "id": "14f265f6-4ea5-4bb5-ac18-3bda44b648dd",
   "metadata": {},
   "source": [
    "Ans. PVM stands for Python Virtual Machine. It is the component of the Python interpreter that executes Python bytecode instructions line by line.\n",
    "PVM Works (Step-by-Step):\n",
    "1.\tWe write code in .py file\n",
    "2.\tPython compiles it into bytecode (.pyc)\n",
    "3.\tPVM loads the bytecode\n",
    "4.\tIt interprets and executes the bytecode line by line."
   ]
  },
  {
   "cell_type": "raw",
   "id": "6c649106-8b3c-41ce-b287-d91ccaaf10ae",
   "metadata": {},
   "source": [
    "Q12. How Python internally works?"
   ]
  },
  {
   "cell_type": "raw",
   "id": "3f5a45a3-9bbe-49e4-be5a-e0306f7955da",
   "metadata": {},
   "source": [
    "Ans. Internally, Python first compiles the source code into bytecode, which is a lower-level, platform-independent representation. This bytecode is then executed by the Python Virtual Machine (PVM). Python also includes an automatic memory management system using a garbage collector to handle unused objects. So overall, Python uses both compilation and interpretation during execution.\n",
    "\n",
    "{Your Code (.py) ➝ Compiler ➝ Bytecode (.pyc) ➝ Python Virtual Machine (PVM) ➝ Output}"
   ]
  },
  {
   "cell_type": "raw",
   "id": "ad5ed9c1-096b-408d-96fa-f2ca79b7393f",
   "metadata": {},
   "source": [
    "Q13. What is PEP 8?"
   ]
  },
  {
   "cell_type": "raw",
   "id": "5ae30587-725c-46b5-acc4-8260485c731a",
   "metadata": {},
   "source": [
    "Ans. PEP 8 is the official style guide for writing clean, readable, and consistent Python code.\n",
    "It stands for Python Enhancement Proposal 8, and it provides rules on how to format Python programs properly."
   ]
  },
  {
   "cell_type": "raw",
   "id": "5adc6f4c-1b3f-4a40-b7b2-376c30297c3e",
   "metadata": {},
   "source": [
    "Q14. What is PIP what is the use of PIP?"
   ]
  },
  {
   "cell_type": "raw",
   "id": "8628333c-85a8-4e3b-a4cb-6ccad28ae77b",
   "metadata": {},
   "source": [
    "Ans. PIP stands for 'Pip Installs Packages'. It is the official package manager for Python used to install, update, and manage third-party Python libraries and packages from the Python Package Index (PyPI).\n",
    "PIP Used For:-\n",
    "•\tInstalling Python packages\n",
    "•\tUninstalling packages\n",
    "•\tUpgrading existing packages\n",
    "•\tManaging dependencies for your project"
   ]
  },
  {
   "cell_type": "raw",
   "id": "41809ef3-2288-4b5d-8f74-3b8221e04202",
   "metadata": {},
   "source": [
    "Q15. What is Byte code and when is it created?"
   ]
  },
  {
   "cell_type": "raw",
   "id": "340a7357-9260-4aa5-a763-979229e71ec7",
   "metadata": {},
   "source": [
    "Ans. Bytecode in Python is an intermediate, low-level, platform-independent representation of your source code that is generated by the Python interpreter before execution. It is created when you run a Python program.\n",
    "Bytecode is created after the Python source code (.py) is compiled by the interpreter, but before it is executed by the Python Virtual Machine (PVM).\n",
    "Stored in a .pyc file inside the __pycache__ folder (created automatically)."
   ]
  },
  {
   "cell_type": "raw",
   "id": "95dab233-0b0c-4997-a5ba-72c124f7415a",
   "metadata": {},
   "source": [
    "Q16. What is indentation in python? Does python relay on indentation?"
   ]
  },
  {
   "cell_type": "raw",
   "id": "e514b51f-7aa2-4a9f-8124-4e6c0c16fb04",
   "metadata": {},
   "source": [
    "Ans. Indentation in Python refers to the spaces or tabs used at the beginning of code lines to define blocks of code. Yes, Python strictly relies on indentation to determine the structure and flow of the program."
   ]
  },
  {
   "cell_type": "raw",
   "id": "24f46c92-938a-41a4-bb78-ff0090b48d93",
   "metadata": {},
   "source": [
    "Q17. What is variable?"
   ]
  },
  {
   "cell_type": "raw",
   "id": "a9ba4df4-1254-41da-8fb2-63f27286e5af",
   "metadata": {},
   "source": [
    "Ans. A variable is a name that refers to a value stored in memory. It is used to store and manipulate data in a program. Python variables are dynamically typed, meaning you don’t need to declare their data type explicitly."
   ]
  },
  {
   "cell_type": "raw",
   "id": "4abe0c98-6dcd-42da-9d24-0eb1252b2aa4",
   "metadata": {},
   "source": [
    "Q18. What are variable naming rules?"
   ]
  },
  {
   "cell_type": "raw",
   "id": "a4d72a62-79bc-47ab-9f7f-2edccdfa62fd",
   "metadata": {},
   "source": [
    "Ans. 1.\tMust begin with a letter (A–Z or a–z) or an underscore _\n",
    "        a.Valid: name, _score\n",
    "        b.Invalid: 1value, @name\n",
    "2.\tCan contain letters, numbers, and underscores\n",
    "        a.Valid: user_1, total_score\n",
    "3.\tCannot start with a number\n",
    "        a.Invalid: 2nd_place, 123abc\n",
    "4.\tCannot be a Python keyword\n",
    "        a.Invalid: class, if, def, etc. (use import keyword; print(keyword.kwlist) to see all)\n",
    "5.\tCase-sensitive\n",
    "        a.Name, name, and NAME are treated as different variables."
   ]
  },
  {
   "cell_type": "raw",
   "id": "1b17f935-3bc8-49f9-9f5e-8869ff6146c3",
   "metadata": {},
   "source": [
    "Q19. What is datatype and name of datatypes."
   ]
  },
  {
   "cell_type": "raw",
   "id": "3b6af04a-4ec0-4e80-a5b4-9e9cfdccf508",
   "metadata": {},
   "source": [
    "Ans.A data type defines the kind of value a variable can hold. It tells the interpreter how the data should be stored, processed, and what operations can be performed on it.\n",
    "1.Numeric Types\n",
    "   •int – Integer (e.g., 10)\n",
    "   •float – Floating-point number (e.g., 3.14)\n",
    "   •complex – Complex number (e.g., 2 + 3j)\n",
    "2.Text Type\n",
    "   •str – String (e.g., \"hello\")\n",
    "3.Sequence Types\n",
    "   •list – Ordered, mutable collection (e.g., [1, 2, 3])\n",
    "   •tuple – Ordered, immutable collection (e.g., (1, 2, 3))\n",
    "   •range – Sequence of numbers (e.g., range(5))\n",
    "4.Mapping Type\n",
    "   •dict – Key-value pairs (e.g., {\"name\": \"Alice\"})\n",
    "5.Set Types\n",
    "   •set – Unordered, unique elements (e.g., {1, 2, 3})\n",
    "   •frozenset – Immutable set\n",
    "6.Boolean Type\n",
    "   •bool – True or False\n",
    "7.None Type\n",
    "   •NoneType – Represents the absence of a value (None)"
   ]
  },
  {
   "cell_type": "raw",
   "id": "f5e535e8-3c82-4273-b4fe-97aec6ab1bde",
   "metadata": {},
   "source": [
    "Q20. What is keyword in Python?"
   ]
  },
  {
   "cell_type": "raw",
   "id": "b450e3ea-1b26-41be-9691-8428bfacd57e",
   "metadata": {},
   "source": [
    "Ans. Keywords in Python are reserved words that have special meaning and purpose in the language. They are used to define the syntax and structure of Python programs and cannot be used as variable names or identifiers.\n",
    "             import keyword\n",
    "            print(keyword.kwlist)"
   ]
  }
 ],
 "metadata": {
  "kernelspec": {
   "display_name": "Python [conda env:base] *",
   "language": "python",
   "name": "conda-base-py"
  },
  "language_info": {
   "codemirror_mode": {
    "name": "ipython",
    "version": 3
   },
   "file_extension": ".py",
   "mimetype": "text/x-python",
   "name": "python",
   "nbconvert_exporter": "python",
   "pygments_lexer": "ipython3",
   "version": "3.12.7"
  }
 },
 "nbformat": 4,
 "nbformat_minor": 5
}
