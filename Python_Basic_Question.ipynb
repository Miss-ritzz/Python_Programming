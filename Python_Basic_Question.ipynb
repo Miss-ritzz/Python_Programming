{
 "cells": [
  {
   "cell_type": "markdown",
   "id": "b33b3de2-a6f3-4e94-a5b6-aeba84563144",
   "metadata": {},
   "source": [
    "# Q1. What is python?"
   ]
  },
  {
   "cell_type": "markdown",
   "id": "e91e9b72-f455-4292-a51a-45fd70868f1e",
   "metadata": {},
   "source": [
    "Ans. Python is a high-level, interpreted, general-purpose programming language known for its simplicity, readability, and versatility.It supports multiple programming paradigms, including object-oriented, procedural, and functional programming."
   ]
  },
  {
   "cell_type": "markdown",
   "id": "2331b16e-5ac7-406c-a806-2f0bc738a67b",
   "metadata": {},
   "source": [
    "# Q2. Tell me the areas where python is being used?"
   ]
  },
  {
   "cell_type": "markdown",
   "id": "9ae65d0c-1db2-4e64-a627-f6e3e1e323b4",
   "metadata": {},
   "source": [
    "Ans. •Web Development\n",
    "     •Machine Learning and Artificial Intelligence\n",
    "     •Data Science\n",
    "     •Game Development\n",
    "     •Audio and Visual Applications\n",
    "     •Software Development\n",
    "     •CAD Applications\n",
    "     •Business Applications\n",
    "     •Desktop GUI\n",
    "     •Web Scraping Application "
   ]
  },
  {
   "cell_type": "markdown",
   "id": "3bc7e261-e1f1-4c3a-8018-4e0a94a75d9b",
   "metadata": {},
   "source": [
    "# Q3. What is high level and low-level language?"
   ]
  },
  {
   "cell_type": "markdown",
   "id": "06d6efce-7510-4087-8725-5b11e8349367",
   "metadata": {},
   "source": [
    "Ans. A high-level language is closer to human language and is designed to be easy for humans to read, write, and understand whereas A low-level language is closer to machine language and directly interacts with the hardware.\n",
    "Feature\t              High-Level Language\t              Low-Level Language\n",
    "Readability              \t Easy\t                           Hard\n",
    "Speed\t                    Slower\t                          Faster\n",
    "Portability\t                 High\t                           Low\n",
    "Abstraction Level\t         High\t                           Low\n",
    "Examples\t             Python, Java\t                 Assembly, Machine Code  "
   ]
  },
  {
   "cell_type": "markdown",
   "id": "e46057fc-5ea7-483f-8039-e1a067f83674",
   "metadata": {},
   "source": [
    "# Q4. What is interpreted language?"
   ]
  },
  {
   "cell_type": "markdown",
   "id": "45837be1-2000-4339-b107-0844e609bc8e",
   "metadata": {},
   "source": [
    "Ans. An interpreted language is a type of programming language in which the code is executed line by line by an interpreter at runtime, rather than being compiled into machine code before execution.\n",
    "Examples: Python, JavaScript, PHP, etc,."
   ]
  },
  {
   "cell_type": "markdown",
   "id": "c48e6a8b-9fc8-46f4-8e4d-078a44167ff3",
   "metadata": {},
   "source": [
    "# Q5. What is compiled language?"
   ]
  },
  {
   "cell_type": "markdown",
   "id": "30cf03d6-109d-401b-98e6-dc50a61ffd57",
   "metadata": {},
   "source": [
    "Ans. A compiled language is a programming language whose code is translated into machine code (binary) by a compiler before it can be executed by the computer.\n",
    "Examples: C, C++, JAVA, etc,."
   ]
  },
  {
   "cell_type": "markdown",
   "id": "57630ab7-4a65-4636-90ec-ca281fd4657d",
   "metadata": {},
   "source": [
    "# Q6. What is statically typed language?"
   ]
  },
  {
   "cell_type": "markdown",
   "id": "6d5f11f9-c744-489a-9885-4ce9cfc3dfd3",
   "metadata": {},
   "source": [
    "Ans. A statically typed language is a programming language in which variable types are declared explicitly and checked at compile time.\n",
    "Examples: C, C++, JAVA, etc,."
   ]
  },
  {
   "cell_type": "markdown",
   "id": "a6371869-a6b3-46ba-a2ba-800067792a51",
   "metadata": {},
   "source": [
    "# Q7. What is dynamically typed language?"
   ]
  },
  {
   "cell_type": "markdown",
   "id": "7a8a0c0e-d196-4a8e-90b3-3bdf52e366ea",
   "metadata": {},
   "source": [
    "Ans. A dynamically typed language is a programming language where variable types are determined at runtime, meaning you don’t need to declare a variable’s type explicitly.\n",
    "Examples: Python, JavaScript, PHP, etc,."
   ]
  },
  {
   "cell_type": "markdown",
   "id": "1f260d42-1d5d-4966-b51d-3e4292b2abbc",
   "metadata": {},
   "source": [
    "# Q8. What is weekly typed language?"
   ]
  },
  {
   "cell_type": "markdown",
   "id": "90c85449-11f9-46f0-9b7f-03dadba5d918",
   "metadata": {},
   "source": [
    "Ans. A weakly typed language is a programming language that allows implicit type conversions between different data types, sometimes leading to unexpected or incorrect behavior.\n",
    "Ex- JavaScript, PHP, C (in some contexts),etc,."
   ]
  },
  {
   "cell_type": "markdown",
   "id": "57beee8a-97fc-434c-a2c0-6a1a4e517821",
   "metadata": {},
   "source": [
    "# Q9. What is strongly typed language?"
   ]
  },
  {
   "cell_type": "markdown",
   "id": "ecbcff89-f6af-4e6a-8902-d641d3797990",
   "metadata": {},
   "source": [
    "Ans. A strongly typed language is one that strictly enforces type rules — we cannot perform operations between mismatched data types without explicitly converting them.\n",
    "Ex- Python, C#, Java, etc,."
   ]
  },
  {
   "cell_type": "markdown",
   "id": "97256529-aa5b-457c-8c78-2d5e1a8f8a13",
   "metadata": {},
   "source": [
    "# Q10. What is .PYC file (Byte code)?"
   ]
  },
  {
   "cell_type": "markdown",
   "id": "393b5c27-aee9-4651-936a-cc0d58a7b20b",
   "metadata": {},
   "source": [
    "Ans. A .pyc file is a compiled Python file that contains the bytecode version of your Python source code. It is automatically created by the Python interpreter to improve performance.\n",
    "Ex: When we run or import a Python file (.py), Python compiles it to bytecode. The bytecode is saved as a .pyc file inside a folder called __pycache__."
   ]
  },
  {
   "cell_type": "markdown",
   "id": "e9ddd205-a3f1-4b44-8d09-501a57988fdf",
   "metadata": {},
   "source": [
    "# Q11. What is PVM?"
   ]
  },
  {
   "cell_type": "markdown",
   "id": "e7629d69-0ade-40fa-94f5-d6eaf91a7e86",
   "metadata": {},
   "source": [
    "Ans. PVM stands for Python Virtual Machine. It is the component of the Python interpreter that executes Python bytecode instructions line by line.\n",
    "PVM Works (Step-by-Step):\n",
    "     1.We write code in .py file\n",
    "     2.Python compiles it into bytecode (.pyc)\n",
    "     3.PVM loads the bytecode\n",
    "     4.It interprets and executes the bytecode line by line."
   ]
  },
  {
   "cell_type": "markdown",
   "id": "69cbe6cc-da1e-4fa9-8e9f-9a876d42674d",
   "metadata": {},
   "source": [
    "# Q12. How Python internally works?"
   ]
  },
  {
   "cell_type": "markdown",
   "id": "17612496-d560-4756-a97c-e047a693688d",
   "metadata": {},
   "source": [
    "Ans. Internally, Python first compiles the source code into bytecode, which is a lower-level, platform-independent representation. This bytecode is then executed by the Python Virtual Machine (PVM). Python also includes an automatic memory management system using a garbage collector to handle unused objects. So overall, Python uses both compilation and interpretation during execution.\n",
    "\n",
    "{Your Code (.py) ➝ Compiler ➝ Bytecode (.pyc) ➝ Python Virtual Machine (PVM) ➝ Output}"
   ]
  },
  {
   "cell_type": "markdown",
   "id": "7df50ea6-8003-4620-aff8-1fcb73e2217b",
   "metadata": {},
   "source": [
    "# Q13. What is PEP 8?"
   ]
  },
  {
   "cell_type": "markdown",
   "id": "8b76c7f4-1936-43c1-a36f-ed81ced0cd3c",
   "metadata": {},
   "source": [
    "Ans. PEP 8 is the official style guide for writing clean, readable, and consistent Python code.\n",
    "It stands for Python Enhancement Proposal 8, and it provides rules on how to format Python programs properly."
   ]
  },
  {
   "cell_type": "markdown",
   "id": "ccecb574-8e44-4a0d-8c45-ac7539d1288b",
   "metadata": {},
   "source": [
    "# Q14. What is PIP what is the use of PIP?"
   ]
  },
  {
   "cell_type": "markdown",
   "id": "917acf09-a98c-4dca-bf72-57f6b75693e8",
   "metadata": {},
   "source": [
    "Ans. PIP stands for 'Pip Installs Packages'. It is the official package manager for Python used to install, update, and manage third-party Python libraries and packages from the Python Package Index (PyPI).\n",
    "PIP Used For:-\n",
    "   •Installing Python packages\n",
    "   •Uninstalling packages\n",
    "   •Upgrading existing packages\n",
    "   •Managing dependencies for your project"
   ]
  },
  {
   "cell_type": "markdown",
   "id": "982284bf-349c-484e-9f86-e7ac2d98a4da",
   "metadata": {},
   "source": [
    "# Q15. What is Byte code and when is it created?"
   ]
  },
  {
   "cell_type": "markdown",
   "id": "cd7d20a7-ab13-4c94-b6a2-208605457b35",
   "metadata": {},
   "source": [
    "Ans. Bytecode in Python is an intermediate, low-level, platform-independent representation of your source code that is generated by the Python interpreter before execution. It is created when you run a Python program.\n",
    "Bytecode is created after the Python source code (.py) is compiled by the interpreter, but before it is executed by the Python Virtual Machine (PVM).\n",
    "Stored in a .pyc file inside the (__pycache__) folder (created automatically)."
   ]
  },
  {
   "cell_type": "markdown",
   "id": "aa54ccd3-bf7b-4dcc-a966-4c48b1b1cbda",
   "metadata": {},
   "source": [
    "# Q16. What is indentation in python? Does python relay on indentation?"
   ]
  },
  {
   "cell_type": "markdown",
   "id": "8d6392cc-f060-4ef5-8b43-83ee3b7c24aa",
   "metadata": {},
   "source": [
    "Ans. Indentation in Python refers to the spaces or tabs used at the beginning of code lines to define blocks of code. Yes, Python strictly relies on indentation to determine the structure and flow of the program."
   ]
  },
  {
   "cell_type": "markdown",
   "id": "c344d255-d601-47c4-96fc-88761d1c181b",
   "metadata": {},
   "source": [
    "# Q17. What is variable?"
   ]
  },
  {
   "cell_type": "markdown",
   "id": "c8ecc6f8-6f60-46d5-9210-f0e09d9af1f7",
   "metadata": {},
   "source": [
    "Ans. A variable is a name that refers to a value stored in memory. It is used to store and manipulate data in a program. Python variables are dynamically typed, meaning you don’t need to declare their data type explicitly."
   ]
  },
  {
   "cell_type": "markdown",
   "id": "85e88f22-bb66-4e89-9c7a-084ba94c47d5",
   "metadata": {},
   "source": [
    "# Q18. What are variable naming rules?"
   ]
  },
  {
   "cell_type": "markdown",
   "id": "44ee2bc4-b72f-4fc8-bb91-61758b9641a5",
   "metadata": {},
   "source": [
    "Ans.\n",
    "1.Must begin with a letter (A–Z or a–z) or an underscore _\n",
    "        a.Valid: name, _score\n",
    "        b.Invalid: 1value, @name\n",
    "2.Can contain letters, numbers, and underscores\n",
    "        a.Valid: user_1, total_score\n",
    "3.Cannot start with a number\n",
    "        a.Invalid: 2nd_place, 123abc\n",
    "4.Cannot be a Python keyword\n",
    "        a.Invalid: class, if, def, etc. (use import keyword; print(keyword.kwlist) to see all)\n",
    "5.Case-sensitive\n",
    "        a.Name, name, and NAME are treated as different variables."
   ]
  },
  {
   "cell_type": "markdown",
   "id": "552b4d36-1874-4722-91d1-187cde51de3c",
   "metadata": {},
   "source": [
    "# Q19. What is datatype and name of datatypes."
   ]
  },
  {
   "cell_type": "markdown",
   "id": "7ff35580-d146-41cc-a53a-139f734a0949",
   "metadata": {},
   "source": [
    "Ans.A data type defines the kind of value a variable can hold. It tells the interpreter how the data should be stored, processed, and what operations can be performed on it.\n",
    "1.Numeric Types\n",
    "   •int – Integer (e.g., 10)\n",
    "   •float – Floating-point number (e.g., 3.14)\n",
    "   •complex – Complex number (e.g., 2 + 3j)\n",
    "2.Text Type\n",
    "   •str – String (e.g., \"hello\")\n",
    "3.Sequence Types\n",
    "   •list – Ordered, mutable collection (e.g., [1, 2, 3])\n",
    "   •tuple – Ordered, immutable collection (e.g., (1, 2, 3))\n",
    "   •range – Sequence of numbers (e.g., range(5))\n",
    "4.Mapping Type\n",
    "   •dict – Key-value pairs (e.g., {\"name\": \"Alice\"})\n",
    "5.Set Types\n",
    "   •set – Unordered, unique elements (e.g., {1, 2, 3})\n",
    "   •frozenset – Immutable set\n",
    "6.Boolean Type\n",
    "   •bool – True or False\n",
    "7.None Type\n",
    "   •NoneType – Represents the absence of a value (None)"
   ]
  },
  {
   "cell_type": "markdown",
   "id": "d3e5410b-f400-4b47-89f2-be297ae8b59e",
   "metadata": {},
   "source": [
    "# Q20. What is keyword in Python?"
   ]
  },
  {
   "cell_type": "markdown",
   "id": "8f653e36-76d6-4b36-81e8-0bd40a4964de",
   "metadata": {},
   "source": [
    "Ans. Keywords in Python are reserved words that have special meaning and purpose in the language. They are used to define the syntax and structure of Python programs and cannot be used as variable names or identifiers.\n",
    "             import keyword\n",
    "            print(keyword.kwlist)"
   ]
  }
 ],
 "metadata": {
  "kernelspec": {
   "display_name": "Python [conda env:base] *",
   "language": "python",
   "name": "conda-base-py"
  },
  "language_info": {
   "codemirror_mode": {
    "name": "ipython",
    "version": 3
   },
   "file_extension": ".py",
   "mimetype": "text/x-python",
   "name": "python",
   "nbconvert_exporter": "python",
   "pygments_lexer": "ipython3",
   "version": "3.12.7"
  }
 },
 "nbformat": 4,
 "nbformat_minor": 5
}
