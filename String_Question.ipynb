{
 "cells": [
  {
   "cell_type": "markdown",
   "id": "9128d4c9-a8db-47ff-84a7-67703a063c21",
   "metadata": {
    "panel-layout": {
     "height": 60.602272033691406,
     "visible": true,
     "width": 100
    }
   },
   "source": [
    "# 1.How do you concatenate two strings in Python?"
   ]
  },
  {
   "cell_type": "code",
   "execution_count": 3,
   "id": "ceddc736-365a-4077-bcf9-394051356d3f",
   "metadata": {
    "panel-layout": {
     "height": 0,
     "visible": true,
     "width": 100
    }
   },
   "outputs": [
    {
     "name": "stdout",
     "output_type": "stream",
     "text": [
      "Hello World\n"
     ]
    }
   ],
   "source": [
    "# Using the + operator:- The + operator is the most straightforward method for concatenating strings.\n",
    "string1 = \"Hello\"\n",
    "string2 = \"World\"\n",
    "result = string1 + \" \" + string2\n",
    "print(result)"
   ]
  },
  {
   "cell_type": "code",
   "execution_count": 7,
   "id": "a8ef2ebf-fc33-41be-856d-7e31bd642d42",
   "metadata": {
    "panel-layout": {
     "height": 0,
     "visible": true,
     "width": 100
    }
   },
   "outputs": [
    {
     "name": "stdout",
     "output_type": "stream",
     "text": [
      "Hello World!\n"
     ]
    }
   ],
   "source": [
    "# Using the join() method:- The join() method is useful when concatenating multiple strings, particularly within a list or other iterable.\n",
    "string_list = [\"Hello\", \" \", \"World\", \"!\"]\n",
    "result = \"\".join(string_list)\n",
    "print(result)"
   ]
  },
  {
   "cell_type": "code",
   "execution_count": 131,
   "id": "f81feedf-bad3-49ec-912d-fdc99e361fc0",
   "metadata": {
    "panel-layout": {
     "height": 0,
     "visible": true,
     "width": 100
    }
   },
   "outputs": [
    {
     "name": "stdout",
     "output_type": "stream",
     "text": [
      "Hello World!\n"
     ]
    }
   ],
   "source": [
    "# Using f-strings:-F-strings provide a concise and readable way to embed expressions,including other strings,directly within string literals.\n",
    "string1 = \"Hello\"\n",
    "string2 = \"World\"\n",
    "result = f\"{string1} {string2}!\"\n",
    "print(result)"
   ]
  },
  {
   "cell_type": "code",
   "execution_count": 11,
   "id": "d931ca0c-8bd5-4d1b-ae4e-3161abe9de35",
   "metadata": {
    "panel-layout": {
     "height": 0,
     "visible": true,
     "width": 100
    }
   },
   "outputs": [
    {
     "name": "stdout",
     "output_type": "stream",
     "text": [
      "Hello World!\n"
     ]
    }
   ],
   "source": [
    "# Using the % operator (older method): While less common now,the % operator can also be used for string formatting and concatenation.\n",
    "string1 = \"Hello\"\n",
    "string2 = \"World\"\n",
    "result = \"%s %s!\" % (string1, string2)\n",
    "print(result)"
   ]
  },
  {
   "cell_type": "markdown",
   "id": "9ae1d120-6127-461c-bf6a-255c61a938fa",
   "metadata": {
    "panel-layout": {
     "height": 60.602272033691406,
     "visible": true,
     "width": 100
    }
   },
   "source": [
    "# 2.What is the difference between the + operator and the join() method for concatenating strings?"
   ]
  },
  {
   "cell_type": "code",
   "execution_count": 13,
   "id": "c4734f73-da14-419b-bc3f-68dee7940fa1",
   "metadata": {
    "panel-layout": {
     "height": 0,
     "visible": true,
     "width": 100
    }
   },
   "outputs": [
    {
     "name": "stdout",
     "output_type": "stream",
     "text": [
      "Hello World\n",
      "Hello World Python\n"
     ]
    }
   ],
   "source": [
    "# (+) Operator:-\n",
    "# +operator used to combine a few strings & Simple and readable.\n",
    "# Not efficient when used in loops or with many strings, because it creates new strings each time.\n",
    "str1 = \"Hello\"\n",
    "str2 = \"World\"\n",
    "result = str1 + \" \" + str2\n",
    "print(result)\n",
    "\n",
    "# join() Method:-\n",
    "# Best for joining a list of many strings & more efficient for large-scale concatenation. Requires an iterable (like a list or tuple).\n",
    "words = [\"Hello\", \"World\", \"Python\"]\n",
    "result = \" \".join(words)\n",
    "print(result)"
   ]
  },
  {
   "cell_type": "markdown",
   "id": "88af1b8c-5a9d-48ea-b44d-7ff499a5b81a",
   "metadata": {
    "panel-layout": {
     "height": 60.602272033691406,
     "visible": true,
     "width": 100
    }
   },
   "source": [
    "# 3.How do you access individual characters in a string? "
   ]
  },
  {
   "cell_type": "code",
   "execution_count": 61,
   "id": "95572aa7-2b07-4b2c-a4aa-9052369fb6e0",
   "metadata": {
    "panel-layout": {
     "height": 0,
     "visible": true,
     "width": 100
    }
   },
   "outputs": [
    {
     "name": "stdout",
     "output_type": "stream",
     "text": [
      "P\n",
      "r\n"
     ]
    }
   ],
   "source": [
    "# We can access individual characters in a string using indexing. Python strings are zero-indexed, which means the first character is at position 0.\n",
    "\n",
    "text = \"Python Programming\"\n",
    "print(text[0])\n",
    "print(text[8])"
   ]
  },
  {
   "cell_type": "code",
   "execution_count": 41,
   "id": "40afd66f-7193-4461-96c3-8cc11a081967",
   "metadata": {
    "panel-layout": {
     "height": 0,
     "visible": true,
     "width": 100
    }
   },
   "outputs": [
    {
     "name": "stdout",
     "output_type": "stream",
     "text": [
      "g\n",
      "n\n"
     ]
    }
   ],
   "source": [
    "# We can also use negative indexing to access characters from the end:\n",
    "\n",
    "print(text[-1])\n",
    "print(text[-2])"
   ]
  },
  {
   "cell_type": "markdown",
   "id": "9deccb06-ae07-4ddb-a2a9-88c20ade7cd7",
   "metadata": {
    "panel-layout": {
     "height": 60.602272033691406,
     "visible": true,
     "width": 100
    }
   },
   "source": [
    "# 4.What method is used to find the length of a string in Python?"
   ]
  },
  {
   "cell_type": "code",
   "execution_count": 25,
   "id": "642585dd-43a4-4aa0-9b94-5e692e4162ed",
   "metadata": {
    "panel-layout": {
     "height": 0,
     "visible": true,
     "width": 100
    }
   },
   "outputs": [
    {
     "name": "stdout",
     "output_type": "stream",
     "text": [
      "23\n"
     ]
    }
   ],
   "source": [
    "# In Python, the len() function is used to find the length of a string, which means the total number of characters in it.\n",
    "# This includes all letters, spaces, and special characters in the string.\n",
    "\n",
    "text = \"@Python_Programming_3.0\"\n",
    "length = len(text)\n",
    "print(length)"
   ]
  },
  {
   "cell_type": "markdown",
   "id": "ce61e132-5d17-475c-8633-576921865a5f",
   "metadata": {
    "panel-layout": {
     "height": 60.602272033691406,
     "visible": true,
     "width": 100
    }
   },
   "source": [
    "# 5.How can you convert a string to uppercase in Python?"
   ]
  },
  {
   "cell_type": "code",
   "execution_count": 43,
   "id": "f57883fb-550c-41a8-b6ed-466f49374de4",
   "metadata": {
    "panel-layout": {
     "height": 0,
     "visible": true,
     "width": 100
    }
   },
   "outputs": [
    {
     "name": "stdout",
     "output_type": "stream",
     "text": [
      "HELLO MY WORLD\n"
     ]
    }
   ],
   "source": [
    "# We can convert a string to uppercase using the .upper() method. It returns a new string with all characters in uppercase.\n",
    "# This method works for all letters and doesn't change numbers or symbols.\n",
    "\n",
    "text = \"hello my world\"\n",
    "result = text.upper()\n",
    "print(result)"
   ]
  },
  {
   "cell_type": "markdown",
   "id": "c5666149-5e52-4afb-9c33-61a4f31b7c91",
   "metadata": {
    "panel-layout": {
     "height": 60.602272033691406,
     "visible": true,
     "width": 100
    }
   },
   "source": [
    "# 6.How can you convert a string to lowercase in Python?"
   ]
  },
  {
   "cell_type": "code",
   "execution_count": 45,
   "id": "f750e6ce-96d2-4fb0-b66e-17ceddf4fdec",
   "metadata": {
    "panel-layout": {
     "height": 0,
     "visible": true,
     "width": 100
    }
   },
   "outputs": [
    {
     "name": "stdout",
     "output_type": "stream",
     "text": [
      "hello my world\n"
     ]
    }
   ],
   "source": [
    "# We can convert a string to lowercase using the .lower() method. It returns a new string with all letters in lowercase.\n",
    "# It only affects uppercase letters—numbers and symbols stay the same.\n",
    "\n",
    "text = \"HELLO MY WORLD\"\n",
    "result = text.lower()\n",
    "print(result)"
   ]
  },
  {
   "cell_type": "markdown",
   "id": "e6aed453-ac30-411a-9208-7fd0c26437c8",
   "metadata": {
    "panel-layout": {
     "height": 60.602272033691406,
     "visible": true,
     "width": 100
    }
   },
   "source": [
    "# 7.What method is used to replace substrings within a string?"
   ]
  },
  {
   "cell_type": "code",
   "execution_count": 35,
   "id": "16e1dcfc-04d7-454c-97b4-a9d3928d1379",
   "metadata": {
    "panel-layout": {
     "height": 0,
     "visible": true,
     "width": 100
    }
   },
   "outputs": [
    {
     "name": "stdout",
     "output_type": "stream",
     "text": [
      "I love Python\n"
     ]
    }
   ],
   "source": [
    "# The .replace() method is used to replace substrings within a string. It returns a new string with the specified part replaced.\n",
    "# string.replace(old, new)\n",
    "\n",
    "text = \"I love Java\"\n",
    "result = text.replace(\"Java\", \"Python\")\n",
    "print(result)"
   ]
  },
  {
   "cell_type": "code",
   "execution_count": 47,
   "id": "fe1b230a-5205-4c98-a1cc-baa82200b368",
   "metadata": {
    "panel-layout": {
     "height": 0,
     "visible": true,
     "width": 100
    }
   },
   "outputs": [
    {
     "name": "stdout",
     "output_type": "stream",
     "text": [
      "orange orange apple\n"
     ]
    }
   ],
   "source": [
    "# We can also replace only a certain number of occurrences by adding a third argument:\n",
    "text = \"apple apple apple\"\n",
    "result = text.replace(\"apple\", \"orange\", 2)\n",
    "print(result)"
   ]
  },
  {
   "cell_type": "markdown",
   "id": "940e2fcc-8f49-4730-b645-ad890c210785",
   "metadata": {
    "panel-layout": {
     "height": 60.602272033691406,
     "visible": true,
     "width": 100
    }
   },
   "source": [
    "# 8.How can you split a string into a list of substrings based on a delimiter?"
   ]
  },
  {
   "cell_type": "code",
   "execution_count": 49,
   "id": "6a8ab69e-1de0-418c-af04-b3bc804489fe",
   "metadata": {
    "panel-layout": {
     "height": 0,
     "visible": true,
     "width": 100
    }
   },
   "outputs": [
    {
     "name": "stdout",
     "output_type": "stream",
     "text": [
      "['Hello', 'World', 'Python']\n"
     ]
    }
   ],
   "source": [
    "# We can split a string into a list of substrings using the .split() method. \n",
    "# We can provide a delimiter (like a space, comma, etc.) to decide where the string should split.\n",
    "\n",
    "text = \"Hello World Python\"\n",
    "result = text.split()\n",
    "print(result)"
   ]
  },
  {
   "cell_type": "code",
   "execution_count": 33,
   "id": "1e479231-d7dd-46be-8e20-71946495093c",
   "metadata": {
    "panel-layout": {
     "height": 0,
     "visible": true,
     "width": 100
    }
   },
   "outputs": [
    {
     "name": "stdout",
     "output_type": "stream",
     "text": [
      "['apple', 'banana', 'grape']\n"
     ]
    }
   ],
   "source": [
    "text = \"apple,banana,grape\"\n",
    "result = text.split(\",\")\n",
    "print(result)"
   ]
  },
  {
   "cell_type": "markdown",
   "id": "a6ab12ab-9324-45a3-85bd-90593478e6b5",
   "metadata": {
    "panel-layout": {
     "height": 60.602272033691406,
     "visible": true,
     "width": 100
    }
   },
   "source": [
    "# 9.How do you check if a string starts with a particular substring? "
   ]
  },
  {
   "cell_type": "code",
   "execution_count": 23,
   "id": "d69f2213-54fe-4fbd-80db-7f80b804d16c",
   "metadata": {
    "panel-layout": {
     "height": 0,
     "visible": true,
     "width": 100
    }
   },
   "outputs": [
    {
     "name": "stdout",
     "output_type": "stream",
     "text": [
      "True\n",
      "False\n",
      "True\n"
     ]
    }
   ],
   "source": [
    "# We can check if a string starts with a particular substring using the .startswith() method.\n",
    "# It returns True if the string starts with the given substring, otherwise False.\n",
    "\n",
    "text = \"Python is fun\"\n",
    "print(text.startswith(\"Python\"))\n",
    "print(text.startswith(\"Java\"))\n",
    "\n",
    "# We can also check a portion of the string using optional start and end positions:\n",
    "print(text.startswith(\"is\", 7))"
   ]
  },
  {
   "cell_type": "markdown",
   "id": "deadd793-c1ff-4b0a-bfaf-b9bf795ed6e5",
   "metadata": {
    "panel-layout": {
     "height": 60.602272033691406,
     "visible": true,
     "width": 100
    }
   },
   "source": [
    "# 10.How do you check if a string ends with a particular substring?"
   ]
  },
  {
   "cell_type": "code",
   "execution_count": 107,
   "id": "56fbeffc-459a-4fab-8ee9-6260b23dd160",
   "metadata": {
    "panel-layout": {
     "height": 0,
     "visible": true,
     "width": 100
    }
   },
   "outputs": [
    {
     "name": "stdout",
     "output_type": "stream",
     "text": [
      "True\n",
      "False\n",
      "False\n"
     ]
    }
   ],
   "source": [
    "# We can check if a string ends with a particular substring using the .endswith() method.\n",
    "# It returns True if the string ends with the given substring, otherwise False.\n",
    "\n",
    "text = \"learning Python\"\n",
    "print(text.endswith(\"Python\"))\n",
    "print(text.endswith(\"Java\"))\n",
    "\n",
    "# We can also specify a range using optional start and end indexes:\n",
    "print(text.endswith(\"ning\", 0, 11))"
   ]
  },
  {
   "cell_type": "markdown",
   "id": "fdd7da97-1d32-4ed6-b5e2-29892dd371bc",
   "metadata": {
    "panel-layout": {
     "height": 60.602272033691406,
     "visible": true,
     "width": 100
    }
   },
   "source": [
    "# 11.How can you remove leading and trailing whitespace from a string? "
   ]
  },
  {
   "cell_type": "code",
   "execution_count": 19,
   "id": "1491bb6e-e273-48c7-a81b-f1e049f4314b",
   "metadata": {
    "panel-layout": {
     "height": 0,
     "visible": true,
     "width": 100
    }
   },
   "outputs": [
    {
     "name": "stdout",
     "output_type": "stream",
     "text": [
      "Hy Everyone.. \n",
      "How are You..?\n"
     ]
    }
   ],
   "source": [
    "# We can remove leading and trailing whitespace from a string using the .strip() method.\n",
    "# strip() removes spaces, tabs, and newline characters from both ends of the string.\n",
    "# To remove only leading or trailing spaces,we can use:-\n",
    "# 1. lstrip() → removes from the left\n",
    "# 2. rstrip() → removes from the right\n",
    "\n",
    "text = \"   Hy Everyone.. \\nHow are You..?   \"\n",
    "result = text.strip()\n",
    "print(result)"
   ]
  },
  {
   "cell_type": "markdown",
   "id": "da526c51-d08f-4b45-8739-9211b9cf330c",
   "metadata": {
    "panel-layout": {
     "height": 60.602272033691406,
     "visible": true,
     "width": 100
    }
   },
   "source": [
    "# 12.What method is used to find the index of the first occurrence of a substring within a string?"
   ]
  },
  {
   "cell_type": "code",
   "execution_count": 124,
   "id": "e70dba48-c759-4a1e-98ec-d876917042a3",
   "metadata": {},
   "outputs": [
    {
     "name": "stdout",
     "output_type": "stream",
     "text": [
      "7\n"
     ]
    },
    {
     "data": {
      "text/plain": [
       "19"
      ]
     },
     "execution_count": 124,
     "metadata": {},
     "output_type": "execute_result"
    }
   ],
   "source": [
    "# We can use the .find() method to get the index of the first occurrence of a substring within a string.\n",
    "# It returns the index if found, or -1 if not found.\n",
    "\n",
    "text = \"I love Python programming language\"\n",
    "index = text.find(\"Python\")\n",
    "print(index)\n",
    "\n",
    "# We can also specify a start and end position:\n",
    "text.find(\"a\", 7, 20)\n",
    "\n",
    "# If we want an exception when the substring is not found, you can use .index() instead of .find()."
   ]
  },
  {
   "cell_type": "markdown",
   "id": "3a6f3578-840d-4401-b31d-0b76dae7bd3b",
   "metadata": {
    "panel-layout": {
     "height": 60.602272033691406,
     "visible": true,
     "width": 100
    }
   },
   "source": [
    "# 13.How can you count the number of occurrences of a substring within a string? "
   ]
  },
  {
   "cell_type": "code",
   "execution_count": 69,
   "id": "73177fc5-32e8-41ea-9098-317035cd3ab2",
   "metadata": {
    "panel-layout": {
     "height": 0,
     "visible": true,
     "width": 100
    }
   },
   "outputs": [
    {
     "name": "stdout",
     "output_type": "stream",
     "text": [
      "2\n",
      "2\n"
     ]
    }
   ],
   "source": [
    "# We can count how many times a substring appears in a string using the .count() method.\n",
    "text = \"Python is easy. Python is powerful.\"\n",
    "count = text.count(\"Python\")\n",
    "print(count)\n",
    "\n",
    "#text = \"Python is easy. Python is powerful.\"\n",
    "count = text.count(\"Python\")\n",
    "print(count) "
   ]
  },
  {
   "cell_type": "markdown",
   "id": "5474221a-c5fb-4652-ac63-6a5ff52cedbe",
   "metadata": {
    "panel-layout": {
     "height": 60.602272033691406,
     "visible": true,
     "width": 100
    }
   },
   "source": [
    "# 14.How do you check if a string contains only alphabetic characters?"
   ]
  },
  {
   "cell_type": "code",
   "execution_count": 67,
   "id": "67508cdf-00c2-4226-a000-a7511fa176d0",
   "metadata": {
    "panel-layout": {
     "height": 0,
     "visible": true,
     "width": 100
    }
   },
   "outputs": [
    {
     "name": "stdout",
     "output_type": "stream",
     "text": [
      "True\n",
      "False\n"
     ]
    }
   ],
   "source": [
    "# We can check if a string contains only alphabetic characters using the .isalpha() method.\n",
    "# It returns True if all characters are letters and the string is not empty.\n",
    "text = \"Hello\"\n",
    "print(text.isalpha())\n",
    "\n",
    "# It returns False if the string has numbers, spaces, or symbols.\n",
    "text = \"Hello123\"\n",
    "print(text.isalpha())"
   ]
  },
  {
   "cell_type": "markdown",
   "id": "c00cfc32-8bc1-403e-831b-60669fd6ef9d",
   "metadata": {
    "panel-layout": {
     "height": 60.602272033691406,
     "visible": true,
     "width": 100
    }
   },
   "source": [
    "# 15.How do you check if a string contains only numeric characters? "
   ]
  },
  {
   "cell_type": "code",
   "execution_count": 65,
   "id": "cb0e0c12-f431-415a-8616-44a780b47a2a",
   "metadata": {
    "panel-layout": {
     "height": 0,
     "visible": true,
     "width": 100
    }
   },
   "outputs": [
    {
     "name": "stdout",
     "output_type": "stream",
     "text": [
      "True\n",
      "False\n"
     ]
    }
   ],
   "source": [
    "# We can check if a string contains only numeric characters using the .isdigit() method.\n",
    "# It returns True if all characters in the string are digits and the string is not empty.\n",
    "num = \"12345\"\n",
    "print(num.isdigit())\n",
    "\n",
    "# It returns False if the string contains letters, spaces, or symbols.\n",
    "num = \"123a\"\n",
    "print(num.isdigit())"
   ]
  },
  {
   "cell_type": "markdown",
   "id": "e380f0fc-8acb-43a7-ba05-03464b36c02b",
   "metadata": {
    "panel-layout": {
     "height": 60.602272033691406,
     "visible": true,
     "width": 100
    }
   },
   "source": [
    "# 16.How can you check if a string is a palindrome? "
   ]
  },
  {
   "cell_type": "code",
   "execution_count": 1,
   "id": "10db1f90-318c-48d2-bd9d-9427525c1b81",
   "metadata": {
    "panel-layout": {
     "height": 0,
     "visible": true,
     "width": 100
    }
   },
   "outputs": [
    {
     "name": "stdout",
     "output_type": "stream",
     "text": [
      "Palindrome\n"
     ]
    }
   ],
   "source": [
    "# WE can compare the string with its reverse. If both are the same, it's a palindrome.\n",
    "\n",
    "name = \"mom\"\n",
    "if name == name[::-1]:\n",
    "    print(\"Palindrome\")\n",
    "else:\n",
    "    print(\"not palindrome\")\n"
   ]
  },
  {
   "cell_type": "markdown",
   "id": "f9181d52-7114-4edd-97a1-7c66bf209f65",
   "metadata": {
    "panel-layout": {
     "height": 60.602272033691406,
     "visible": true,
     "width": 100
    }
   },
   "source": [
    "# 17.How can you reverse a string in Python? "
   ]
  },
  {
   "cell_type": "code",
   "execution_count": 63,
   "id": "e9692366-0e46-4b13-91ee-17ea5a2af8d9",
   "metadata": {},
   "outputs": [
    {
     "name": "stdout",
     "output_type": "stream",
     "text": [
      "nohtyP\n"
     ]
    }
   ],
   "source": [
    "# We can reverse a string using slicing with a step of -1.\n",
    "text = \"Python\"\n",
    "reversed_text = text[::-1]\n",
    "print(reversed_text)  # Output: nohtyP\n",
    "\n",
    "# text[::-1] means: start to end, with step -1 → reverse the string.\n",
    "# we can also use a loop or reversed() with join():\n",
    "reversed_text = ''.join(reversed(text))\n",
    "# But slicing is the simplest and most common way."
   ]
  },
  {
   "cell_type": "markdown",
   "id": "dccda00a-2980-4fbc-984b-4ea3edc91af0",
   "metadata": {
    "panel-layout": {
     "height": 60.602272033691406,
     "visible": true,
     "width": 100
    }
   },
   "source": [
    "# 18.How do you format a string with placeholders for variable values? "
   ]
  },
  {
   "cell_type": "code",
   "execution_count": 83,
   "id": "84fef216-1147-4bb9-b016-ce548239c7fb",
   "metadata": {
    "panel-layout": {
     "height": 0,
     "visible": true,
     "width": 100
    }
   },
   "outputs": [
    {
     "name": "stdout",
     "output_type": "stream",
     "text": [
      "My name is Ritika Priyadarshini and I am 23 years old.\n",
      "My name is Ritika Singh and I am 24 years old.\n",
      "My name is Ritika Singh and I am 24 years old.\n",
      "My name is Ritika and I am 20 years old.\n"
     ]
    }
   ],
   "source": [
    "# We can format a string with placeholders using:\n",
    "# 1. f-strings (Recommended – Python 3.6+):-\n",
    "name = \"Ritika Priyadarshini\"\n",
    "age = 23\n",
    "result1 = f\"My name is {name} and I am {age} years old.\"\n",
    "print(result1)\n",
    "\n",
    "# 2. .format() method:-\n",
    "name = \"Ritika Singh\"\n",
    "age = 24\n",
    "result2 = \"My name is {} and I am {} years old.\".format(name, age)\n",
    "#                            \"OR\"\n",
    "result3 = \"My name is {n} and I am {a} years old.\".format(n=name, a=age)\n",
    "print(result2)\n",
    "print(result3)\n",
    "\n",
    "# 3. % formatting (Older style)\n",
    "name = \"Ritika\"\n",
    "age = 20\n",
    "result4 = \"My name is %s and I am %d years old.\" % (name, age)\n",
    "print(result4)"
   ]
  },
  {
   "cell_type": "markdown",
   "id": "af59e599-393b-4c23-9e76-8f194f928f10",
   "metadata": {
    "panel-layout": {
     "height": 60.602272033691406,
     "visible": true,
     "width": 100
    }
   },
   "source": [
    "# 19.How do you access a substring of a string using slicing? "
   ]
  },
  {
   "cell_type": "code",
   "execution_count": 87,
   "id": "a266915a-0298-46ff-ad68-f567c9ee1232",
   "metadata": {
    "panel-layout": {
     "height": 0,
     "visible": true,
     "width": 100
    }
   },
   "outputs": [
    {
     "name": "stdout",
     "output_type": "stream",
     "text": [
      "Python\n",
      "gnimmargorP nohtyP\n"
     ]
    }
   ],
   "source": [
    "# We can access a substring using slicing, which allows you to extract parts of a string based on index positions.\n",
    "# Syntax: substring = s[start : stop : step]\n",
    "text = \"Python Programming\"\n",
    "substring = text[0:6]\n",
    "print(substring)\n",
    "substring = text[::-1]\n",
    "print(substring)"
   ]
  },
  {
   "cell_type": "markdown",
   "id": "7f36ccd8-5766-4125-8339-843911644add",
   "metadata": {
    "panel-layout": {
     "height": 60.602272033691406,
     "visible": true,
     "width": 100
    }
   },
   "source": [
    "# 20.How can you remove specific characters from a string in Python ?"
   ]
  },
  {
   "cell_type": "code",
   "execution_count": 128,
   "id": "a25add86-b862-4a51-a531-3966a8b3d8ad",
   "metadata": {
    "panel-layout": {
     "height": 0,
     "visible": true,
     "width": 100
    }
   },
   "outputs": [
    {
     "name": "stdout",
     "output_type": "stream",
     "text": [
      "heo my word\n",
      "hello..\n",
      "abc-to-xyz\n",
      "Helo India\n"
     ]
    }
   ],
   "source": [
    "# we can remove specific characters from a string using different methods depending on your needs:-\n",
    "# 1. Using .replace() – for removing one specific character\n",
    "text = \"hello my world\"\n",
    "result = text.replace(\"l\", \"\")\n",
    "print(result)\n",
    "# 2. Using list comprehension + join() – for removing multiple specific characters\n",
    "text = \"he@l#lo..!\"\n",
    "remove_chars = \"@#!\"\n",
    "result = ''.join(char for char in text if char not in remove_chars)\n",
    "print(result)\n",
    "# 3. Using re.sub() from the re module – for pattern-based removal\n",
    "import re\n",
    "text = \"abc123-to-456xyz\"\n",
    "result = re.sub(r\"[0-9]\", \"\", text)  # removes all digits\n",
    "print(result)\n",
    "# 4.Using  String slicing: \n",
    "text = \"Hello India\"\n",
    "index_to_remove = 2\n",
    "new_text = text[:index_to_remove] + text[index_to_remove+1:]\n",
    "print(new_text)"
   ]
  }
 ],
 "metadata": {
  "kernelspec": {
   "display_name": "Python [conda env:base] *",
   "language": "python",
   "name": "conda-base-py"
  },
  "language_info": {
   "codemirror_mode": {
    "name": "ipython",
    "version": 3
   },
   "file_extension": ".py",
   "mimetype": "text/x-python",
   "name": "python",
   "nbconvert_exporter": "python",
   "pygments_lexer": "ipython3",
   "version": "3.12.7"
  },
  "panel-cell-order": [
   "9128d4c9-a8db-47ff-84a7-67703a063c21",
   "ceddc736-365a-4077-bcf9-394051356d3f",
   "a8ef2ebf-fc33-41be-856d-7e31bd642d42",
   "f81feedf-bad3-49ec-912d-fdc99e361fc0",
   "d931ca0c-8bd5-4d1b-ae4e-3161abe9de35",
   "9ae1d120-6127-461c-bf6a-255c61a938fa",
   "c4734f73-da14-419b-bc3f-68dee7940fa1",
   "88af1b8c-5a9d-48ea-b44d-7ff499a5b81a",
   "95572aa7-2b07-4b2c-a4aa-9052369fb6e0",
   "40afd66f-7193-4461-96c3-8cc11a081967",
   "9deccb06-ae07-4ddb-a2a9-88c20ade7cd7",
   "642585dd-43a4-4aa0-9b94-5e692e4162ed",
   "ce61e132-5d17-475c-8633-576921865a5f",
   "f57883fb-550c-41a8-b6ed-466f49374de4",
   "c5666149-5e52-4afb-9c33-61a4f31b7c91",
   "f750e6ce-96d2-4fb0-b66e-17ceddf4fdec",
   "e6aed453-ac30-411a-9208-7fd0c26437c8",
   "16e1dcfc-04d7-454c-97b4-a9d3928d1379",
   "fe1b230a-5205-4c98-a1cc-baa82200b368",
   "940e2fcc-8f49-4730-b645-ad890c210785",
   "6a8ab69e-1de0-418c-af04-b3bc804489fe",
   "1e479231-d7dd-46be-8e20-71946495093c",
   "a6ab12ab-9324-45a3-85bd-90593478e6b5",
   "d69f2213-54fe-4fbd-80db-7f80b804d16c",
   "deadd793-c1ff-4b0a-bfaf-b9bf795ed6e5",
   "56fbeffc-459a-4fab-8ee9-6260b23dd160",
   "fdd7da97-1d32-4ed6-b5e2-29892dd371bc",
   "1491bb6e-e273-48c7-a81b-f1e049f4314b",
   "da526c51-d08f-4b45-8739-9211b9cf330c",
   "3a6f3578-840d-4401-b31d-0b76dae7bd3b",
   "73177fc5-32e8-41ea-9098-317035cd3ab2",
   "5474221a-c5fb-4652-ac63-6a5ff52cedbe",
   "67508cdf-00c2-4226-a000-a7511fa176d0",
   "c00cfc32-8bc1-403e-831b-60669fd6ef9d",
   "cb0e0c12-f431-415a-8616-44a780b47a2a",
   "e380f0fc-8acb-43a7-ba05-03464b36c02b",
   "10db1f90-318c-48d2-bd9d-9427525c1b81",
   "f9181d52-7114-4edd-97a1-7c66bf209f65",
   "dccda00a-2980-4fbc-984b-4ea3edc91af0",
   "84fef216-1147-4bb9-b016-ce548239c7fb",
   "af59e599-393b-4c23-9e76-8f194f928f10",
   "a266915a-0298-46ff-ad68-f567c9ee1232",
   "7f36ccd8-5766-4125-8339-843911644add",
   "a25add86-b862-4a51-a531-3966a8b3d8ad"
  ]
 },
 "nbformat": 4,
 "nbformat_minor": 5
}
