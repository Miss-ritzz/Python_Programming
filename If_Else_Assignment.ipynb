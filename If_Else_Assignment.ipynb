{
 "cells": [
  {
   "cell_type": "markdown",
   "id": "74d81a75-c304-4f41-9b61-3310c29d4be8",
   "metadata": {},
   "source": [
    "# 1.Write a program to calculate the electricity bill using only if statement?(accept number of unit from user) according to the following criteria:\n",
    "         Unit                            Price\n",
    "     First 100 units                   no charge\n",
    "     Next 100 units                    Rs 5 per unit\n",
    "     After 200 units                   Rs 10 per unit\n",
    "     (For example, if input unit is 350 than total bill amount is Rs2000). Lets explain...\n",
    "     For first 100 no charges\n",
    "     Now you have 250 unit remaining 100-200 you need to pay – 100*5 = 500\n",
    "     Now 200-100 you need to pay 150*10 = 1500\n",
    "     Total = 500+1500 = 2000"
   ]
  },
  {
   "cell_type": "code",
   "execution_count": 56,
   "id": "a5e4b32b-6070-4262-9c4a-83d0229886f1",
   "metadata": {},
   "outputs": [
    {
     "name": "stdin",
     "output_type": "stream",
     "text": [
      "Enter the number of units consumed:  264\n"
     ]
    },
    {
     "name": "stdout",
     "output_type": "stream",
     "text": [
      "Total electricity bill is: ₹ 1140\n"
     ]
    }
   ],
   "source": [
    "# Accept number of units from the user\n",
    "units = int(input(\"Enter the number of units consumed: \"))\n",
    "\n",
    "bill = 0\n",
    "\n",
    "# Charges for units above 200\n",
    "if units > 200:\n",
    "    bill = bill + (units - 200) * 10\n",
    "    units = 200  # Reduce units to 200 for next condition\n",
    "\n",
    "# Charges for units between 101 and 200\n",
    "if units > 100:\n",
    "    bill = bill + (units - 100) * 5\n",
    "    units = 100  # Reduce units to 100\n",
    "\n",
    "# No charges for first 100 units\n",
    "if units <= 100:\n",
    "    bill = bill + 0\n",
    "\n",
    "# Display the bill\n",
    "print(\"Total electricity bill is: ₹\", bill)"
   ]
  },
  {
   "cell_type": "markdown",
   "id": "745937ab-f571-4ba2-b416-7272a442c7b2",
   "metadata": {},
   "source": [
    "# 2. Write a program to accept percentage from the user and display the grade according to the following criteria:\n",
    "            Marks                          Grade\n",
    "            > 90                             A\n",
    "         > 80 and <= 90                      B\n",
    "         >= 60 and <= 80                     C\n",
    "           below 60                          D"
   ]
  },
  {
   "cell_type": "code",
   "execution_count": 63,
   "id": "f773fd2a-854c-4f43-a9b3-fa6cd1efc735",
   "metadata": {},
   "outputs": [
    {
     "name": "stdin",
     "output_type": "stream",
     "text": [
      "Enter your marks:  98\n"
     ]
    },
    {
     "name": "stdout",
     "output_type": "stream",
     "text": [
      "Grade = 'A'\n",
      "Your grade is: A\n"
     ]
    }
   ],
   "source": [
    "# Take marks from User:\n",
    "Percentage = float(input(\"Enter your marks: \"))\n",
    "\n",
    "# Determine the grade:\n",
    "if Percentage > 90:\n",
    "    grade = \"A\"\n",
    "    print (\"Grade = 'A'\")\n",
    "elif Percentage >80 and Percentage <=90:\n",
    "    grade = \"B\"\n",
    "    print(\"Grade = 'B'\")\n",
    "elif Percentage >=60 and Percentage <=80:\n",
    "    grade = \"C\"\n",
    "    print(\"Grade = 'C'\")\n",
    "else:\n",
    "    Percentage >60\n",
    "    grade = \"D\"\n",
    "    print(\"Grade = 'D'\")\n",
    "\n",
    "#Display grade:\n",
    "print(\"Your grade is:\", grade)"
   ]
  },
  {
   "cell_type": "markdown",
   "id": "e4251781-17e2-4058-a6b4-276df2ac3a38",
   "metadata": {},
   "source": [
    "# 3. Accept the age of 4 people and display the youngest one?"
   ]
  },
  {
   "cell_type": "code",
   "execution_count": 66,
   "id": "5073ac85-64a2-423c-80fc-4f6c270db61e",
   "metadata": {},
   "outputs": [
    {
     "name": "stdin",
     "output_type": "stream",
     "text": [
      "Enter age of 1st People:  75\n",
      "Enter age of 2nd People:  64\n",
      "Enter age of 3rd People:  21\n",
      "Enter age of 4th People:  94\n"
     ]
    },
    {
     "name": "stdout",
     "output_type": "stream",
     "text": [
      "3rd people is Youngest\n",
      "The youngest age is: 21\n"
     ]
    }
   ],
   "source": [
    "# Take the ages of the peoples from the user:-\n",
    "age1 = int(input(\"Enter age of 1st People: \"))\n",
    "age2 = int(input(\"Enter age of 2nd People: \"))\n",
    "age3 = int(input(\"Enter age of 3rd People: \"))\n",
    "age4 = int(input(\"Enter age of 4th People: \"))\n",
    "\n",
    "# Compare the ages\n",
    "if age1 <= age2 and age1 <= age3 and age1 <= age4:\n",
    "    youngest = age1\n",
    "    print(\"1st people is Youngest\")\n",
    "elif age2 <= age1 and age2 <= age3 and age2 <= age4:\n",
    "    youngest = age2\n",
    "    print(\"2nd people is Youngest\")\n",
    "elif age3 <= age1 and age3 <= age2 and age3 <= age4:\n",
    "    youngest = age3\n",
    "    print(\"3rd people is Youngest\")\n",
    "else:\n",
    "    youngest = age4\n",
    "    print(\"4th people is Youngest\")\n",
    "\n",
    "# Display the youngest age\n",
    "print(\"The youngest age is:\", youngest)"
   ]
  },
  {
   "cell_type": "markdown",
   "id": "62180a90-6ae3-464a-ab2e-ed351d560049",
   "metadata": {},
   "source": [
    "# 4.A company decided to give bonus to employee according to following criteria:\n",
    "          Time period of Service                        Bonus\n",
    "\n",
    "           More than 10 years                            10%\n",
    "\n",
    "             >=6 and <=10                                 8%\n",
    "\n",
    "            Less than 6 years                             5%\n",
    " Ask user for their salary and years of service and print the net bonus amount?"
   ]
  },
  {
   "cell_type": "code",
   "execution_count": 68,
   "id": "43d18550-c816-409e-8c32-e76a49cd3b89",
   "metadata": {},
   "outputs": [
    {
     "name": "stdin",
     "output_type": "stream",
     "text": [
      "Enter your current salary:  867950\n",
      "Enter your years of service:  9\n"
     ]
    },
    {
     "name": "stdout",
     "output_type": "stream",
     "text": [
      "Your bonus amount is: 69436.0\n"
     ]
    }
   ],
   "source": [
    "# Take salary and years of service from the user :-\n",
    "salary = float(input(\"Enter your current salary: \"))\n",
    "years = int(input(\"Enter your years of service: \"))\n",
    "\n",
    "# Now calculate bonus based on service time\n",
    "if years > 10:\n",
    "    bonus = salary * 0.10\n",
    "elif years >= 6 and years <= 10:\n",
    "    bonus = salary * 0.08\n",
    "else:\n",
    "    bonus = salary * 0.05\n",
    "\n",
    "# Display the bonus amount\n",
    "print(\"Your bonus amount is:\", bonus)\n"
   ]
  },
  {
   "cell_type": "markdown",
   "id": "9d5f5733-07d5-461d-8424-a23389f8ffbf",
   "metadata": {},
   "source": [
    "# 5.Accept three numbers from the user and display the second largest number?\n"
   ]
  },
  {
   "cell_type": "code",
   "execution_count": 80,
   "id": "bb7f1ba4-e3f9-4d01-aa0b-4b4d96a19e7d",
   "metadata": {},
   "outputs": [
    {
     "name": "stdin",
     "output_type": "stream",
     "text": [
      "Enter First Number :  55\n",
      "Enter Second Number :  87\n",
      "Enter Third Number :  64\n"
     ]
    },
    {
     "name": "stdout",
     "output_type": "stream",
     "text": [
      "number3 is second_largest_number\n",
      "The second largest number is: 64\n"
     ]
    }
   ],
   "source": [
    "# Take number from the user:-\n",
    "number1 = int(input(\"Enter First Number : \"))\n",
    "number2 = int(input(\"Enter Second Number : \"))\n",
    "number3 = int(input(\"Enter Third Number : \"))\n",
    "\n",
    "# Check 2nd largest number:-\n",
    "if (number1 > number2 and number1 < number3) or (number1 < number2 and number1 > number3):\n",
    "    second_largest = number1\n",
    "    print(\"number1 is second_largest_number\")\n",
    "elif (number2 > number1 and number2 < number3) or (number2 < number1 and number2 > number3):\n",
    "    second_largest = number2\n",
    "    print(\"number2 is second_largest_number\")\n",
    "else :\n",
    "    second_largest = number3\n",
    "    print(\"number3 is second_largest_number\")\n",
    "\n",
    "# Display the 2nd largest number\n",
    "print(\"The second largest number is:\", second_largest)"
   ]
  },
  {
   "cell_type": "markdown",
   "id": "23d2815b-6dcd-4046-b9d4-495860d7ea99",
   "metadata": {},
   "source": [
    "# 6. Accept the marked price from the user and calculate the Net amount as (Marked Price – Discount) to pay according to following criteria:\n",
    "           Marked                            Price Discount\n",
    "           >10000                                20%\n",
    "       >7000 and <=10000                         15%\n",
    "           <=7000                                10%"
   ]
  },
  {
   "cell_type": "code",
   "execution_count": 86,
   "id": "a0329d87-5261-4885-ba8f-830a4d35220b",
   "metadata": {},
   "outputs": [
    {
     "name": "stdin",
     "output_type": "stream",
     "text": [
      "Enter the marked price:  1000000\n"
     ]
    },
    {
     "name": "stdout",
     "output_type": "stream",
     "text": [
      "Your net amount is: 800000.0\n"
     ]
    }
   ],
   "source": [
    "# Take marked price from the user:-\n",
    "marked_price = float(input(\"Enter the marked price: \"))\n",
    "\n",
    "# Calculate the discount according to price\n",
    "if marked_price > 10000:\n",
    "    discount = marked_price * 0.20\n",
    "elif marked_price > 7000 and marked_price <= 10000:\n",
    "    discount = marked_price * 0.15\n",
    "else:\n",
    "    marked_price <= 7000\n",
    "    discount = marked_price * 0.10\n",
    "\n",
    "# calculate net amount\n",
    "net_amount = marked_price - discount\n",
    "\n",
    "# Display the result\n",
    "print(\"Your net amount is:\", net_amount)"
   ]
  },
  {
   "cell_type": "markdown",
   "id": "4f42d07e-64ae-41da-8df5-e000a59d5390",
   "metadata": {},
   "source": [
    "# 7.Accept the marks of English, Math and Science, Social Studies Subject and display the stream allotted according to following:\n",
    "   All Subjects more than 80 marks         —    Science Stream,\n",
    "   English >80 and Math, Science above 50  —     Commerce Stream,\n",
    "   English > 80 and social studies > 80    —     Humanities"
   ]
  },
  {
   "cell_type": "code",
   "execution_count": 17,
   "id": "cbd5ebe5-f7a1-4930-b1bb-a7e9fe3f3ef1",
   "metadata": {},
   "outputs": [
    {
     "name": "stdin",
     "output_type": "stream",
     "text": [
      "Enter marks in english:  87\n",
      "Enter marks in math:  88\n",
      "Enter marks in science:  82\n",
      "Enter marks in social studies:  56\n"
     ]
    },
    {
     "name": "stdout",
     "output_type": "stream",
     "text": [
      "You allotted Commerce_Stream\n",
      "Stream Allotted:  Commerce_Stream\n"
     ]
    }
   ],
   "source": [
    "# Take the marks from the user\n",
    "english = int(input(\"Enter marks in english: \"))\n",
    "math = int(input(\"Enter marks in math: \"))\n",
    "science = int(input(\"Enter marks in science: \"))\n",
    "social_studies = int(input(\"Enter marks in social studies: \"))\n",
    "\n",
    "# Determine the stream\n",
    "if english > 80 and math > 80 and science > 80 and social_studies > 80:\n",
    "    stream = \"Science_Stream\"\n",
    "    print(\"You allotted Science_Stream\")\n",
    "elif english > 80 and math > 50 and science > 50:\n",
    "    stream = \"Commerce_Stream\"\n",
    "    print(\"You allotted Commerce_Stream\")\n",
    "elif english > 80 and social_studies > 80:\n",
    "    stream = \"Humanities\"\n",
    "    print(\"You allotted Humanities\")\n",
    "else:\n",
    "    stream = \"No stream allotted based on given criteria\"\n",
    "\n",
    "print(\"Stream Allotted: \", stream)"
   ]
  },
  {
   "cell_type": "markdown",
   "id": "af0452a9-f404-467d-842f-0617b1632725",
   "metadata": {},
   "source": [
    "# 8.Write a program to display \"Hello\" if a number entered by user is a multiple of five, otherwise print \"Bye\"?"
   ]
  },
  {
   "cell_type": "code",
   "execution_count": 21,
   "id": "da6e7639-dbe0-4fb1-95da-0ef9f470d5c7",
   "metadata": {},
   "outputs": [
    {
     "name": "stdin",
     "output_type": "stream",
     "text": [
      "Enter a number:  85\n"
     ]
    },
    {
     "name": "stdout",
     "output_type": "stream",
     "text": [
      "Hello\n"
     ]
    }
   ],
   "source": [
    "# Accept a number from the user\n",
    "number = int(input(\"Enter a number: \"))\n",
    "\n",
    "# Check if the number is a multiple of 5\n",
    "if number % 5 == 0:\n",
    "    print(\"Hello\")\n",
    "else:\n",
    "    print(\"Bye\")"
   ]
  },
  {
   "cell_type": "markdown",
   "id": "05b954ad-a82a-43ec-958d-cebe1ece614f",
   "metadata": {},
   "source": [
    "# 9.Write a program to check whether the last digit of a number (entered by user) is divisible by 3 or not?"
   ]
  },
  {
   "cell_type": "code",
   "execution_count": 27,
   "id": "61143f6d-67f0-4f46-ba26-f08d44ad5817",
   "metadata": {},
   "outputs": [
    {
     "name": "stdin",
     "output_type": "stream",
     "text": [
      "Enter a number:  56487001\n"
     ]
    },
    {
     "name": "stdout",
     "output_type": "stream",
     "text": [
      "The last digit is not divisible by 3.\n"
     ]
    }
   ],
   "source": [
    "# Accept a number from the user\n",
    "number = int(input(\"Enter a number: \"))\n",
    "\n",
    "# Get the last digit\n",
    "last_digit = number % 10\n",
    "\n",
    "# Check if the last digit is divisible by 3\n",
    "if last_digit % 3 == 0:\n",
    "    print(\"The last digit is divisible by 3.\")\n",
    "else:\n",
    "    print(\"The last digit is not divisible by 3.\")"
   ]
  },
  {
   "cell_type": "markdown",
   "id": "0b9e135c-128e-421e-8317-82c6577a9268",
   "metadata": {},
   "source": [
    "# 10.Write a program to check whether a number entered is three-digit number or not?"
   ]
  },
  {
   "cell_type": "code",
   "execution_count": 33,
   "id": "0c13aedc-d411-4cf9-ae6e-102797cba2f9",
   "metadata": {},
   "outputs": [
    {
     "name": "stdin",
     "output_type": "stream",
     "text": [
      "Enter a number:  85496\n"
     ]
    },
    {
     "name": "stdout",
     "output_type": "stream",
     "text": [
      "It is NOT a three-digit number.\n"
     ]
    }
   ],
   "source": [
    "# Accept a number from the user\n",
    "number = int(input(\"Enter a number: \"))\n",
    "\n",
    "# Check if the number is a three-digit number\n",
    "if number >= 100 and number <= 999:\n",
    "    print(\"It is a three-digit number.\")\n",
    "elif number <= -100 and number >= -999:\n",
    "    print(\"It is a three-digit number.\")\n",
    "else:\n",
    "    print(\"It is NOT a three-digit number.\")"
   ]
  }
 ],
 "metadata": {
  "kernelspec": {
   "display_name": "Python [conda env:base] *",
   "language": "python",
   "name": "conda-base-py"
  },
  "language_info": {
   "codemirror_mode": {
    "name": "ipython",
    "version": 3
   },
   "file_extension": ".py",
   "mimetype": "text/x-python",
   "name": "python",
   "nbconvert_exporter": "python",
   "pygments_lexer": "ipython3",
   "version": "3.12.7"
  }
 },
 "nbformat": 4,
 "nbformat_minor": 5
}
