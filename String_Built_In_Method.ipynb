{
 "cells": [
  {
   "cell_type": "markdown",
   "id": "90555f59-77d4-49b5-90ce-595d698203b6",
   "metadata": {},
   "source": [
    "# str.capitalize()\n",
    "Capitalizes the first character."
   ]
  },
  {
   "cell_type": "code",
   "execution_count": 63,
   "id": "09749134-82c5-4d1f-b9a2-0e5e16f6be67",
   "metadata": {},
   "outputs": [
    {
     "data": {
      "text/plain": [
       "'Hello world'"
      ]
     },
     "execution_count": 63,
     "metadata": {},
     "output_type": "execute_result"
    }
   ],
   "source": [
    "string = \"hello world\"\n",
    "string.capitalize()"
   ]
  },
  {
   "cell_type": "markdown",
   "id": "26344be9-7238-41bb-ad3f-167a2c5eb38f",
   "metadata": {},
   "source": [
    "# str.center(width[, fillchar])\n",
    "Centers the string within the specified width."
   ]
  },
  {
   "cell_type": "code",
   "execution_count": 65,
   "id": "ba7818d0-9ca3-41e3-8ffb-1a5112ef3d87",
   "metadata": {},
   "outputs": [
    {
     "data": {
      "text/plain": [
       "'##################################Hello World###################################'"
      ]
     },
     "execution_count": 65,
     "metadata": {},
     "output_type": "execute_result"
    }
   ],
   "source": [
    "string = \"Hello World\"\n",
    "string.center(80,'#')"
   ]
  },
  {
   "cell_type": "markdown",
   "id": "94f10aea-2a30-46ed-9d76-81a5d3390c13",
   "metadata": {},
   "source": [
    "# str.count(sub[, start[, end]])\n",
    "Returns the number of non-overlapping occurrences of a substring."
   ]
  },
  {
   "cell_type": "code",
   "execution_count": 67,
   "id": "8d565dfe-06b1-4fe0-9e98-21db71cf0e83",
   "metadata": {},
   "outputs": [
    {
     "data": {
      "text/plain": [
       "3"
      ]
     },
     "execution_count": 67,
     "metadata": {},
     "output_type": "execute_result"
    }
   ],
   "source": [
    "string = \"Hello World\"\n",
    "string.count('l')"
   ]
  },
  {
   "cell_type": "markdown",
   "id": "0d9676d0-abfb-4de0-930c-86f9a12544d2",
   "metadata": {},
   "source": [
    "# str.upper()\n",
    "Converts all characters to uppercase."
   ]
  },
  {
   "cell_type": "code",
   "execution_count": 69,
   "id": "ed331ba2-d931-47ca-839a-f05466f3f581",
   "metadata": {},
   "outputs": [
    {
     "data": {
      "text/plain": [
       "'HELLO WORLD'"
      ]
     },
     "execution_count": 69,
     "metadata": {},
     "output_type": "execute_result"
    }
   ],
   "source": [
    "string = \"Hello World\"\n",
    "string.upper()"
   ]
  },
  {
   "cell_type": "markdown",
   "id": "cb171508-322e-4d47-94fe-f29dfb9c615e",
   "metadata": {},
   "source": [
    "# str.lower()\n",
    "Converts to lowercase."
   ]
  },
  {
   "cell_type": "code",
   "execution_count": 71,
   "id": "7db7db2e-b2c8-4a7e-9b13-5aa90c2cb609",
   "metadata": {},
   "outputs": [
    {
     "data": {
      "text/plain": [
       "'hello world'"
      ]
     },
     "execution_count": 71,
     "metadata": {},
     "output_type": "execute_result"
    }
   ],
   "source": [
    "string = \"Hello World\"\n",
    "string.lower()"
   ]
  },
  {
   "cell_type": "markdown",
   "id": "cd629bd6-1aef-4c97-bd2c-790ebce62157",
   "metadata": {},
   "source": [
    "# str.endswith(suffix[, start[, end]])\n",
    "Returns True if the string ends with the specified suffix."
   ]
  },
  {
   "cell_type": "code",
   "execution_count": 73,
   "id": "728a5e76-9269-4407-b95c-541306698451",
   "metadata": {},
   "outputs": [
    {
     "data": {
      "text/plain": [
       "True"
      ]
     },
     "execution_count": 73,
     "metadata": {},
     "output_type": "execute_result"
    }
   ],
   "source": [
    "string = \"Hello World\"\n",
    "string.endswith('d')"
   ]
  },
  {
   "cell_type": "markdown",
   "id": "85afbbf2-d28e-4c4f-ba0d-27d45626d5fb",
   "metadata": {},
   "source": [
    "# str.expandtabs(tabsize=8)\n",
    "Replaces tabs with spaces."
   ]
  },
  {
   "cell_type": "code",
   "execution_count": 75,
   "id": "c9c2b765-c408-4c1f-85c9-3cee5bd66482",
   "metadata": {},
   "outputs": [
    {
     "data": {
      "text/plain": [
       "'Hello World'"
      ]
     },
     "execution_count": 75,
     "metadata": {},
     "output_type": "execute_result"
    }
   ],
   "source": [
    "string = \"Hello World\"\n",
    "string.expandtabs(4)"
   ]
  },
  {
   "cell_type": "markdown",
   "id": "1b913908-93e7-4065-a80c-3cb61ad0b767",
   "metadata": {},
   "source": [
    "# str.encode(encoding=\"utf-8\", errors=\"strict\")\n",
    "Returns encoded version of the string."
   ]
  },
  {
   "cell_type": "code",
   "execution_count": 77,
   "id": "16b3a04a-2797-4cb2-9156-6122e6d193f3",
   "metadata": {},
   "outputs": [
    {
     "data": {
      "text/plain": [
       "b'Hello World'"
      ]
     },
     "execution_count": 77,
     "metadata": {},
     "output_type": "execute_result"
    }
   ],
   "source": [
    "string = \"Hello World\"\n",
    "string.encode()"
   ]
  },
  {
   "cell_type": "markdown",
   "id": "450a4454-7487-44c7-9718-eb3e862405b2",
   "metadata": {},
   "source": [
    "# str.count(sub[, start[, end]])\n",
    "Converts to lowercase (more aggressive than lower())."
   ]
  },
  {
   "cell_type": "code",
   "execution_count": 79,
   "id": "e7c1214a-4a03-4ca0-89b6-329b0802d4c5",
   "metadata": {},
   "outputs": [
    {
     "data": {
      "text/plain": [
       "'hello'"
      ]
     },
     "execution_count": 79,
     "metadata": {},
     "output_type": "execute_result"
    }
   ],
   "source": [
    "string = \"HELLO\"\n",
    "string.casefold()"
   ]
  },
  {
   "cell_type": "markdown",
   "id": "198f683b-b50e-4d05-8f6b-b9dcf5595600",
   "metadata": {},
   "source": [
    "# str.find(sub[, start[, end]])\n",
    "Returns the lowest index of the substring; returns -1 if not found."
   ]
  },
  {
   "cell_type": "code",
   "execution_count": 81,
   "id": "cb0f481c-3c27-4cdb-8eb1-77030998bcd3",
   "metadata": {},
   "outputs": [
    {
     "data": {
      "text/plain": [
       "9"
      ]
     },
     "execution_count": 81,
     "metadata": {},
     "output_type": "execute_result"
    }
   ],
   "source": [
    "string = \"Hello WorLd\"\n",
    "string.find('Ld')"
   ]
  },
  {
   "cell_type": "markdown",
   "id": "2dcba1e1-068f-43d9-9213-0fde5406ed63",
   "metadata": {},
   "source": [
    "# str.format(*args, **kwargs)\n",
    "Formats string using the specified arguments."
   ]
  },
  {
   "cell_type": "code",
   "execution_count": 83,
   "id": "1e46fc16-c8d2-40ed-a9e3-0f71a5a9318c",
   "metadata": {},
   "outputs": [
    {
     "data": {
      "text/plain": [
       "'Hello World'"
      ]
     },
     "execution_count": 83,
     "metadata": {},
     "output_type": "execute_result"
    }
   ],
   "source": [
    "string = \"Hello{}\"\n",
    "string.format(' World')"
   ]
  },
  {
   "cell_type": "markdown",
   "id": "c1d48699-ba0b-4487-b4ce-6bc700c3573a",
   "metadata": {},
   "source": [
    "# str.format_map(mapping)\n",
    "Formats string using a mapping."
   ]
  },
  {
   "cell_type": "code",
   "execution_count": 85,
   "id": "e942476f-1bd4-4d5b-98b4-e07ffd265e3e",
   "metadata": {},
   "outputs": [
    {
     "name": "stdout",
     "output_type": "stream",
     "text": [
      "John's last name is Wick\n"
     ]
    }
   ],
   "source": [
    "string = {'x':'John', 'y':'Wick'}\n",
    "print(\"{x}'s last name is {y}\".format_map(string))"
   ]
  },
  {
   "cell_type": "markdown",
   "id": "b4c59bb2-9049-4bc9-9116-8b2e2dc307de",
   "metadata": {},
   "source": [
    "# str.index(sub[, start[, end]])\n",
    "Like find() but raises ValueError if not found."
   ]
  },
  {
   "cell_type": "code",
   "execution_count": 87,
   "id": "d272deaa-acf0-46f1-b11f-da777eb03e16",
   "metadata": {},
   "outputs": [
    {
     "data": {
      "text/plain": [
       "10"
      ]
     },
     "execution_count": 87,
     "metadata": {},
     "output_type": "execute_result"
    }
   ],
   "source": [
    "string = \"Hello World\"\n",
    "string.index('d')"
   ]
  },
  {
   "cell_type": "markdown",
   "id": "fbd0dc3c-f9e8-4570-84a0-41b05d12157f",
   "metadata": {},
   "source": [
    "# str.isalnum()\n",
    "Returns True if all characters are alphanumeric."
   ]
  },
  {
   "cell_type": "code",
   "execution_count": 89,
   "id": "00cb6909-762c-4cd8-8f95-170dc4a92037",
   "metadata": {},
   "outputs": [
    {
     "data": {
      "text/plain": [
       "True"
      ]
     },
     "execution_count": 89,
     "metadata": {},
     "output_type": "execute_result"
    }
   ],
   "source": [
    "string = \"HELLO028\"\n",
    "string.isalnum()"
   ]
  },
  {
   "cell_type": "markdown",
   "id": "7263ebec-280c-4063-874d-69b65908b345",
   "metadata": {},
   "source": [
    "# str.isalpha()\n",
    "Returns True if all characters are alphabetic."
   ]
  },
  {
   "cell_type": "code",
   "execution_count": 91,
   "id": "7bcfe948-dd76-4544-a925-fb2ec9aadc94",
   "metadata": {},
   "outputs": [
    {
     "data": {
      "text/plain": [
       "True"
      ]
     },
     "execution_count": 91,
     "metadata": {},
     "output_type": "execute_result"
    }
   ],
   "source": [
    "string = \"HelloWorld\"\n",
    "string.isalpha()"
   ]
  },
  {
   "cell_type": "markdown",
   "id": "9b4525ae-be22-424a-8bcc-6a53c2addd64",
   "metadata": {},
   "source": [
    "# str.isascii()\n",
    "Returns True if all characters are ASCII."
   ]
  },
  {
   "cell_type": "code",
   "execution_count": 93,
   "id": "39dd41a0-5efa-4c25-a26f-b9dbacecd222",
   "metadata": {},
   "outputs": [
    {
     "data": {
      "text/plain": [
       "True"
      ]
     },
     "execution_count": 93,
     "metadata": {},
     "output_type": "execute_result"
    }
   ],
   "source": [
    "string = \"Hello@28 World\"\n",
    "string.isascii()"
   ]
  },
  {
   "cell_type": "markdown",
   "id": "7c32e5f1-b69c-4cc4-b490-b5ffdfdecf32",
   "metadata": {},
   "source": [
    "# str.isdecimal()\n",
    "Returns True if all characters are decimal characters."
   ]
  },
  {
   "cell_type": "code",
   "execution_count": 95,
   "id": "8dfda16a-f4d8-4b7d-99b7-4ca46f271ae4",
   "metadata": {},
   "outputs": [
    {
     "data": {
      "text/plain": [
       "True"
      ]
     },
     "execution_count": 95,
     "metadata": {},
     "output_type": "execute_result"
    }
   ],
   "source": [
    "string1 = \"2.80\"\n",
    "string2 = \"2805\"\n",
    "# string1.isdecimal()\n",
    "string2.isdecimal()"
   ]
  },
  {
   "cell_type": "markdown",
   "id": "f9ce7dcc-0d81-4d78-8707-34f550a4db3e",
   "metadata": {},
   "source": [
    "# str.isdigit()\n",
    "Returns True if all characters are digits."
   ]
  },
  {
   "cell_type": "code",
   "execution_count": 97,
   "id": "a07db3d2-d213-4917-b8d0-49f7d58dfb62",
   "metadata": {},
   "outputs": [
    {
     "data": {
      "text/plain": [
       "True"
      ]
     },
     "execution_count": 97,
     "metadata": {},
     "output_type": "execute_result"
    }
   ],
   "source": [
    "string = \"28\"\n",
    "string.isdigit()"
   ]
  },
  {
   "cell_type": "markdown",
   "id": "f4c43ba8-6b3b-4acb-981b-b63d41e17f93",
   "metadata": {},
   "source": [
    "# str.islower()\n",
    "Returns True if all characters are lowercase."
   ]
  },
  {
   "cell_type": "code",
   "execution_count": 99,
   "id": "e78cea21-638c-4156-a83c-8020426f49b1",
   "metadata": {},
   "outputs": [
    {
     "data": {
      "text/plain": [
       "True"
      ]
     },
     "execution_count": 99,
     "metadata": {},
     "output_type": "execute_result"
    }
   ],
   "source": [
    "string = \"hello28\"\n",
    "string.islower()"
   ]
  },
  {
   "cell_type": "markdown",
   "id": "312c0732-4d9c-466b-abd1-ce32632b2083",
   "metadata": {},
   "source": [
    "# str.isidentifier()\n",
    "Returns True if string is a valid identifier."
   ]
  },
  {
   "cell_type": "code",
   "execution_count": 101,
   "id": "ebdfd483-6bcd-4671-9830-020947376593",
   "metadata": {},
   "outputs": [
    {
     "data": {
      "text/plain": [
       "True"
      ]
     },
     "execution_count": 101,
     "metadata": {},
     "output_type": "execute_result"
    }
   ],
   "source": [
    "string = \"HelloWorld_28\"\n",
    "string.isidentifier()"
   ]
  },
  {
   "cell_type": "markdown",
   "id": "96768ce3-0f8e-4f26-8db3-dc83f7e2690d",
   "metadata": {},
   "source": [
    "# str.isnumeric()\n",
    "Returns True if all characters are numeric."
   ]
  },
  {
   "cell_type": "code",
   "execution_count": 103,
   "id": "685992ff-bff1-4e6b-9c50-76726da2be2a",
   "metadata": {},
   "outputs": [
    {
     "data": {
      "text/plain": [
       "True"
      ]
     },
     "execution_count": 103,
     "metadata": {},
     "output_type": "execute_result"
    }
   ],
   "source": [
    "string = \"2452\"\n",
    "string.isnumeric()"
   ]
  },
  {
   "cell_type": "markdown",
   "id": "ec37808b-6d41-4d2c-a8c3-3bb24bf4d758",
   "metadata": {},
   "source": [
    "# str.isprintable()\n",
    "Returns True if all characters are printable."
   ]
  },
  {
   "cell_type": "code",
   "execution_count": 105,
   "id": "3b0b236e-b06b-401b-9d87-a1bd1074d4a7",
   "metadata": {},
   "outputs": [
    {
     "data": {
      "text/plain": [
       "True"
      ]
     },
     "execution_count": 105,
     "metadata": {},
     "output_type": "execute_result"
    }
   ],
   "source": [
    "string = \"Hello28WORLD_@2.80\"\n",
    "string.isprintable()"
   ]
  },
  {
   "cell_type": "markdown",
   "id": "c7b6d074-c67c-4922-93a1-a3013b1e4386",
   "metadata": {},
   "source": [
    "# str.isspace()\n",
    "Returns True if all characters are whitespace."
   ]
  },
  {
   "cell_type": "code",
   "execution_count": 107,
   "id": "39ce73a2-2382-4e5a-afd4-de4355d780c8",
   "metadata": {},
   "outputs": [
    {
     "data": {
      "text/plain": [
       "True"
      ]
     },
     "execution_count": 107,
     "metadata": {},
     "output_type": "execute_result"
    }
   ],
   "source": [
    "string = \"                         \"\n",
    "string.isspace()"
   ]
  },
  {
   "cell_type": "markdown",
   "id": "8bf38651-c0b4-4816-8f5f-06b8f7ebc0dd",
   "metadata": {},
   "source": [
    "# str.istitle()\n",
    "Returns True if the string is titlecased."
   ]
  },
  {
   "cell_type": "code",
   "execution_count": 109,
   "id": "de7f6250-94fa-4c42-a6fc-bdef3c4405c5",
   "metadata": {},
   "outputs": [
    {
     "data": {
      "text/plain": [
       "True"
      ]
     },
     "execution_count": 109,
     "metadata": {},
     "output_type": "execute_result"
    }
   ],
   "source": [
    "string = \"Hello World\"\n",
    "string.istitle()"
   ]
  },
  {
   "cell_type": "markdown",
   "id": "246948f7-64fc-4d45-8505-738d935c73f1",
   "metadata": {},
   "source": [
    "# str.isupper()\n",
    "Returns True if all characters are uppercase."
   ]
  },
  {
   "cell_type": "code",
   "execution_count": 111,
   "id": "51c9163a-e59d-4bb5-b2b9-94ce44f742f7",
   "metadata": {},
   "outputs": [
    {
     "data": {
      "text/plain": [
       "True"
      ]
     },
     "execution_count": 111,
     "metadata": {},
     "output_type": "execute_result"
    }
   ],
   "source": [
    "string = \"HELLO\"\n",
    "string.isupper()"
   ]
  },
  {
   "cell_type": "markdown",
   "id": "72b88344-ca5f-4ea0-bc7e-a77dddad04b7",
   "metadata": {},
   "source": [
    "# str.join(iterable)\n",
    "Joins elements of an iterable with the string as a separator."
   ]
  },
  {
   "cell_type": "code",
   "execution_count": 113,
   "id": "9aab58e9-32db-4ee9-8322-ae00dbb28ca7",
   "metadata": {},
   "outputs": [
    {
     "data": {
      "text/plain": [
       "'Hello-World'"
      ]
     },
     "execution_count": 113,
     "metadata": {},
     "output_type": "execute_result"
    }
   ],
   "source": [
    "string = \"-\"\n",
    "string.join(['Hello', 'World'])"
   ]
  },
  {
   "cell_type": "markdown",
   "id": "2c8cc366-fdef-4825-ac5e-f9948748eb63",
   "metadata": {},
   "source": [
    "# str.ljust(width[, fillchar])\n",
    "Left-justifies the string."
   ]
  },
  {
   "cell_type": "code",
   "execution_count": 115,
   "id": "6d9f7500-a3a4-48ca-a495-765aaeaaea07",
   "metadata": {},
   "outputs": [
    {
     "data": {
      "text/plain": [
       "'HelloWorld_@28****************'"
      ]
     },
     "execution_count": 115,
     "metadata": {},
     "output_type": "execute_result"
    }
   ],
   "source": [
    "string = \"HelloWorld_@28\"\n",
    "string.ljust(30,'*')"
   ]
  },
  {
   "cell_type": "markdown",
   "id": "95a42d1c-d2fd-4068-ad63-f9b18504870c",
   "metadata": {},
   "source": [
    "# str.lstrip([chars])\n",
    "Removes leading characters (default: whitespace)."
   ]
  },
  {
   "cell_type": "code",
   "execution_count": 117,
   "id": "fe3f3848-d38b-462a-9c7a-054851788f51",
   "metadata": {},
   "outputs": [
    {
     "data": {
      "text/plain": [
       "'****HelloWorld_28'"
      ]
     },
     "execution_count": 117,
     "metadata": {},
     "output_type": "execute_result"
    }
   ],
   "source": [
    "string = \"                 ****HelloWorld_28\"\n",
    "string.lstrip()"
   ]
  },
  {
   "cell_type": "markdown",
   "id": "39f804b6-7dcd-42d2-90b4-d38ff8abc3b1",
   "metadata": {},
   "source": [
    "# str.maketrans(x, y=None, z=None)\n",
    "Returns a translation table."
   ]
  },
  {
   "cell_type": "code",
   "execution_count": 119,
   "id": "eb2b331c-cd4f-4e18-b3d0-33d65a78c13a",
   "metadata": {},
   "outputs": [
    {
     "data": {
      "text/plain": [
       "{72: 72, 101: 101, 108: 108, 111: 79, 32: 32, 87: 87, 114: 82, 100: 68}"
      ]
     },
     "execution_count": 119,
     "metadata": {},
     "output_type": "execute_result"
    }
   ],
   "source": [
    "string = ('Hello WORlD')\n",
    "string.maketrans(\"Hello World\", \"Hello WORlD\")"
   ]
  },
  {
   "cell_type": "markdown",
   "id": "3e5988d9-1984-4103-9476-381e9d90ac20",
   "metadata": {},
   "source": [
    "# str.partition(sep)\n",
    "Splits the string at the first occurrence of sep."
   ]
  },
  {
   "cell_type": "code",
   "execution_count": 121,
   "id": "c576f24c-9b1e-4f2b-997f-9959524c4fdc",
   "metadata": {},
   "outputs": [
    {
     "data": {
      "text/plain": [
       "('Hello', ':', 'World_28')"
      ]
     },
     "execution_count": 121,
     "metadata": {},
     "output_type": "execute_result"
    }
   ],
   "source": [
    "string = \"Hello:World_28\"\n",
    "string.partition(':')"
   ]
  },
  {
   "cell_type": "markdown",
   "id": "666bbbb0-3cfd-45cd-b65c-3d95d2cb455b",
   "metadata": {},
   "source": [
    "# str.removeprefix(prefix)\n",
    "Removes the specified prefix if present."
   ]
  },
  {
   "cell_type": "code",
   "execution_count": 123,
   "id": "e062d15c-a742-446f-b931-3ad553863167",
   "metadata": {},
   "outputs": [
    {
     "data": {
      "text/plain": [
       "' MY World'"
      ]
     },
     "execution_count": 123,
     "metadata": {},
     "output_type": "execute_result"
    }
   ],
   "source": [
    "string = \"Hello MY World\"\n",
    "string.removeprefix('Hello')"
   ]
  },
  {
   "cell_type": "markdown",
   "id": "0dd79f7d-f493-4739-8874-54d314cc0632",
   "metadata": {},
   "source": [
    "# str.removesuffix(suffix)\n",
    "Removes the specified suffix if present."
   ]
  },
  {
   "cell_type": "code",
   "execution_count": 125,
   "id": "02814636-f2fb-48db-b412-9451c5552376",
   "metadata": {},
   "outputs": [
    {
     "data": {
      "text/plain": [
       "'Hello World'"
      ]
     },
     "execution_count": 125,
     "metadata": {},
     "output_type": "execute_result"
    }
   ],
   "source": [
    "string = \"Hello World28\"\n",
    "string.removesuffix('28')"
   ]
  },
  {
   "cell_type": "markdown",
   "id": "325475be-de01-4eb4-a4cc-647f90eef876",
   "metadata": {},
   "source": [
    "# str.replace(old, new[, count])\n",
    "Returns a copy with all occurrences of a substring replaced."
   ]
  },
  {
   "cell_type": "code",
   "execution_count": 127,
   "id": "50ed8f34-6f37-4033-a45d-7fb6147961da",
   "metadata": {},
   "outputs": [
    {
     "data": {
      "text/plain": [
       "'My World_28'"
      ]
     },
     "execution_count": 127,
     "metadata": {},
     "output_type": "execute_result"
    }
   ],
   "source": [
    "string = \"Hello World_28\"\n",
    "string.replace('Hello','My')"
   ]
  },
  {
   "cell_type": "markdown",
   "id": "7e0e9ba6-e395-4cef-ad41-bc906c903e04",
   "metadata": {},
   "source": [
    "# str.rfind(sub[, start[, end]])\n",
    "Returns the highest index of the substring."
   ]
  },
  {
   "cell_type": "code",
   "execution_count": 129,
   "id": "2387be93-cb0b-4523-be04-917446676b74",
   "metadata": {},
   "outputs": [
    {
     "data": {
      "text/plain": [
       "10"
      ]
     },
     "execution_count": 129,
     "metadata": {},
     "output_type": "execute_result"
    }
   ],
   "source": [
    "string = \"Hello World_28\"\n",
    "string.rfind('d')"
   ]
  },
  {
   "cell_type": "markdown",
   "id": "d78917de-e260-4197-8192-2ffb56d02f74",
   "metadata": {},
   "source": [
    "# str.rindex(sub[, start[, end]])\n",
    "Like rfind() but raises ValueError if not found."
   ]
  },
  {
   "cell_type": "code",
   "execution_count": 131,
   "id": "9e8e461d-d8bc-489e-84ea-aa5902fbeba5",
   "metadata": {},
   "outputs": [
    {
     "data": {
      "text/plain": [
       "8"
      ]
     },
     "execution_count": 131,
     "metadata": {},
     "output_type": "execute_result"
    }
   ],
   "source": [
    "string = \"Hello World28\"\n",
    "string.rindex('r')"
   ]
  },
  {
   "cell_type": "markdown",
   "id": "f6ae58b1-a225-4074-ad31-78b0c92df081",
   "metadata": {},
   "source": [
    "# str.rjust(width[, fillchar])\n",
    "Right-justifies the string."
   ]
  },
  {
   "cell_type": "code",
   "execution_count": 133,
   "id": "51d0bb72-0d52-4f80-ab8f-a882babfb579",
   "metadata": {},
   "outputs": [
    {
     "data": {
      "text/plain": [
       "'**************Hello World'"
      ]
     },
     "execution_count": 133,
     "metadata": {},
     "output_type": "execute_result"
    }
   ],
   "source": [
    "string =\"Hello World\"\n",
    "string.rjust(25,'*')"
   ]
  },
  {
   "cell_type": "markdown",
   "id": "3ab32282-45c3-4e9b-931d-aaebc1f37d29",
   "metadata": {},
   "source": [
    "# string.rpartition()\n",
    "Searches for the last occurrence of a specified string, and splits the string into a tuple containing three elements."
   ]
  },
  {
   "cell_type": "code",
   "execution_count": 135,
   "id": "7adb8e72-d17e-4075-a58c-c09d0d240ccb",
   "metadata": {},
   "outputs": [
    {
     "data": {
      "text/plain": [
       "('Hello', ':', 'World')"
      ]
     },
     "execution_count": 135,
     "metadata": {},
     "output_type": "execute_result"
    }
   ],
   "source": [
    "string =\"Hello:World\"\n",
    "string.rpartition(':')"
   ]
  },
  {
   "cell_type": "markdown",
   "id": "0fb84a03-86ff-4519-a794-4451279e230e",
   "metadata": {},
   "source": [
    "# str.rsplit(sep=None, maxsplit=-1)\n",
    "Splits the string from the right."
   ]
  },
  {
   "cell_type": "code",
   "execution_count": 137,
   "id": "6483753c-2084-468d-9120-0f9428cf8e17",
   "metadata": {},
   "outputs": [
    {
     "data": {
      "text/plain": [
       "['Hello', 'World']"
      ]
     },
     "execution_count": 137,
     "metadata": {},
     "output_type": "execute_result"
    }
   ],
   "source": [
    "string =\"Hello_World\"\n",
    "string.rsplit('_',1)"
   ]
  },
  {
   "cell_type": "markdown",
   "id": "a21e6faf-fc13-4f10-b09c-f5f53f0ebfb8",
   "metadata": {},
   "source": [
    "# str.rstrip([chars])\n",
    "Removes trailing characters (default: whitespace)."
   ]
  },
  {
   "cell_type": "code",
   "execution_count": 139,
   "id": "0b2119ac-3597-447c-87d7-e5e1be24c430",
   "metadata": {},
   "outputs": [
    {
     "data": {
      "text/plain": [
       "'Hello_World28@'"
      ]
     },
     "execution_count": 139,
     "metadata": {},
     "output_type": "execute_result"
    }
   ],
   "source": [
    "string =\"Hello_World28@      \"\n",
    "string.rstrip()"
   ]
  },
  {
   "cell_type": "markdown",
   "id": "b2d0c024-0fe9-4d4b-a0c7-bbc88a09325a",
   "metadata": {},
   "source": [
    "# str.split(sep=None, maxsplit=-1)\n",
    "Splits the string."
   ]
  },
  {
   "cell_type": "code",
   "execution_count": 141,
   "id": "73f1452f-bbcc-4861-8720-9121afe5b648",
   "metadata": {},
   "outputs": [
    {
     "data": {
      "text/plain": [
       "['Hello World', '@28']"
      ]
     },
     "execution_count": 141,
     "metadata": {},
     "output_type": "execute_result"
    }
   ],
   "source": [
    "string =\"Hello World_@28\"\n",
    "string.split('_')"
   ]
  },
  {
   "cell_type": "markdown",
   "id": "d441cedf-639c-48ea-bd66-7cae04456a9e",
   "metadata": {},
   "source": [
    "# str.splitlines([keepends])\n",
    "Splits at line breaks."
   ]
  },
  {
   "cell_type": "code",
   "execution_count": 143,
   "id": "c473252f-46ed-4d4d-bc34-f887d260cf10",
   "metadata": {},
   "outputs": [
    {
     "data": {
      "text/plain": [
       "['Hello', 'my', 'World']"
      ]
     },
     "execution_count": 143,
     "metadata": {},
     "output_type": "execute_result"
    }
   ],
   "source": [
    "string =\"Hello\\nmy\\nWorld\"\n",
    "string.splitlines()"
   ]
  },
  {
   "cell_type": "markdown",
   "id": "5c40aeb9-efed-486d-ba3d-6035c96945d1",
   "metadata": {},
   "source": [
    "# str.startswith(prefix[, start[, end]])\n",
    "Returns True if the string starts with the prefix."
   ]
  },
  {
   "cell_type": "code",
   "execution_count": 145,
   "id": "a717d187-01ad-486b-bc88-43a7e4b35ed7",
   "metadata": {},
   "outputs": [
    {
     "data": {
      "text/plain": [
       "True"
      ]
     },
     "execution_count": 145,
     "metadata": {},
     "output_type": "execute_result"
    }
   ],
   "source": [
    "string =\"Hello World\"\n",
    "string.startswith('H')"
   ]
  },
  {
   "cell_type": "markdown",
   "id": "9cf7a311-7935-4cb5-9dbe-d2728c20752d",
   "metadata": {},
   "source": [
    "# str.strip([chars])\n",
    "Removes leading and trailing characters."
   ]
  },
  {
   "cell_type": "code",
   "execution_count": 147,
   "id": "4d2f3fcb-b109-4b9c-befc-2757ea1742cd",
   "metadata": {},
   "outputs": [
    {
     "data": {
      "text/plain": [
       "'Hello   World_@28'"
      ]
     },
     "execution_count": 147,
     "metadata": {},
     "output_type": "execute_result"
    }
   ],
   "source": [
    "string =\"          Hello   World_@28                \"\n",
    "string.strip()"
   ]
  },
  {
   "cell_type": "markdown",
   "id": "b9e2377e-5262-4f59-921b-3dfaab3f6946",
   "metadata": {},
   "source": [
    "# str.swapcase()\n",
    "Swaps case of all characters."
   ]
  },
  {
   "cell_type": "code",
   "execution_count": 149,
   "id": "1eb56ed9-31b2-4363-9407-b8fe85881a96",
   "metadata": {},
   "outputs": [
    {
     "data": {
      "text/plain": [
       "'hELLO wOrLD_@28'"
      ]
     },
     "execution_count": 149,
     "metadata": {},
     "output_type": "execute_result"
    }
   ],
   "source": [
    "string =\"Hello WoRld_@28\"\n",
    "string.swapcase()"
   ]
  },
  {
   "cell_type": "markdown",
   "id": "0c2aa417-f76a-4e12-97b8-28dcd90d6dec",
   "metadata": {},
   "source": [
    "# str.title()\n",
    "Returns a titlecased version of the string."
   ]
  },
  {
   "cell_type": "code",
   "execution_count": 151,
   "id": "360a70be-79c9-4271-b45a-b2750639cf85",
   "metadata": {},
   "outputs": [
    {
     "data": {
      "text/plain": [
       "'Hello World_28'"
      ]
     },
     "execution_count": 151,
     "metadata": {},
     "output_type": "execute_result"
    }
   ],
   "source": [
    "string =\"hello world_28\"\n",
    "string.title()"
   ]
  },
  {
   "cell_type": "markdown",
   "id": "40323979-b7ff-4479-8b2c-81c888e372ae",
   "metadata": {},
   "source": [
    "# str.translate(table)\n",
    "Returns a translated string."
   ]
  },
  {
   "cell_type": "code",
   "execution_count": 153,
   "id": "6e741caa-0b53-4f09-b7e3-c77450056c5a",
   "metadata": {},
   "outputs": [
    {
     "data": {
      "text/plain": [
       "'Hello World_@28'"
      ]
     },
     "execution_count": 153,
     "metadata": {},
     "output_type": "execute_result"
    }
   ],
   "source": [
    "string =\"Hello World_@28\"\n",
    "string.translate('World')"
   ]
  },
  {
   "cell_type": "markdown",
   "id": "79e9c032-9517-4563-8f49-05772534cfd5",
   "metadata": {},
   "source": [
    "# str.zfill(width)\n",
    "Pads the string on the left with zeros."
   ]
  },
  {
   "cell_type": "code",
   "execution_count": 155,
   "id": "9a0e39c7-a32b-4872-98fc-d3c149aa45a0",
   "metadata": {},
   "outputs": [
    {
     "data": {
      "text/plain": [
       "'000000000000000Hello World_@28'"
      ]
     },
     "execution_count": 155,
     "metadata": {},
     "output_type": "execute_result"
    }
   ],
   "source": [
    "string =\"Hello World_@28\"\n",
    "string.zfill(30)"
   ]
  }
 ],
 "metadata": {
  "kernelspec": {
   "display_name": "Python [conda env:base] *",
   "language": "python",
   "name": "conda-base-py"
  },
  "language_info": {
   "codemirror_mode": {
    "name": "ipython",
    "version": 3
   },
   "file_extension": ".py",
   "mimetype": "text/x-python",
   "name": "python",
   "nbconvert_exporter": "python",
   "pygments_lexer": "ipython3",
   "version": "3.12.7"
  }
 },
 "nbformat": 4,
 "nbformat_minor": 5
}
